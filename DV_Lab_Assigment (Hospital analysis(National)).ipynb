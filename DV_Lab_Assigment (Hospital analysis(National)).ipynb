{
 "cells": [
  {
   "cell_type": "code",
   "execution_count": null,
   "metadata": {},
   "outputs": [],
   "source": [
    "#Bar_Chart,Line_chart,Histogram,Heat_Map,Scatter_Plot,Box_Plot"
   ]
  },
  {
   "cell_type": "code",
   "execution_count": 4,
   "metadata": {},
   "outputs": [],
   "source": [
    "import pandas as pd\n",
    "import numpy as np\n",
    "import seaborn as sns\n",
    "import matplotlib.pyplot as plt\n",
    "%matplotlib inline"
   ]
  },
  {
   "cell_type": "markdown",
   "metadata": {},
   "source": [
    "# Importing data "
   ]
  },
  {
   "cell_type": "code",
   "execution_count": 5,
   "metadata": {},
   "outputs": [],
   "source": [
    "hospital_data = pd.read_csv('hvbp_efficiency_and_cost_reduction.csv')\n",
    "home_hospital_data = pd.read_csv('HH_Provider_Oct2020.csv')\n"
   ]
  },
  {
   "cell_type": "code",
   "execution_count": 6,
   "metadata": {},
   "outputs": [
    {
     "data": {
      "text/html": [
       "<div>\n",
       "<style scoped>\n",
       "    .dataframe tbody tr th:only-of-type {\n",
       "        vertical-align: middle;\n",
       "    }\n",
       "\n",
       "    .dataframe tbody tr th {\n",
       "        vertical-align: top;\n",
       "    }\n",
       "\n",
       "    .dataframe thead th {\n",
       "        text-align: right;\n",
       "    }\n",
       "</style>\n",
       "<table border=\"1\" class=\"dataframe\">\n",
       "  <thead>\n",
       "    <tr style=\"text-align: right;\">\n",
       "      <th></th>\n",
       "      <th>Fiscal Year</th>\n",
       "      <th>Facility ID</th>\n",
       "      <th>Facility Name</th>\n",
       "      <th>Address</th>\n",
       "      <th>City</th>\n",
       "      <th>State</th>\n",
       "      <th>ZIP Code</th>\n",
       "      <th>County Name</th>\n",
       "      <th>MSPB-1 Achievement Threshold</th>\n",
       "      <th>MSPB-1 Benchmark</th>\n",
       "      <th>MSPB-1 Baseline Rate</th>\n",
       "      <th>MSPB-1 Performance Rate</th>\n",
       "      <th>MSPB-1 Achievement Points</th>\n",
       "      <th>MSPB-1 Improvement Points</th>\n",
       "      <th>MSPB-1 Measure Score</th>\n",
       "    </tr>\n",
       "  </thead>\n",
       "  <tbody>\n",
       "    <tr>\n",
       "      <th>0</th>\n",
       "      <td>2021</td>\n",
       "      <td>10001</td>\n",
       "      <td>SOUTHEAST ALABAMA MEDICAL CENTER</td>\n",
       "      <td>1108 ROSS CLARK CIRCLE</td>\n",
       "      <td>DOTHAN</td>\n",
       "      <td>AL</td>\n",
       "      <td>36301</td>\n",
       "      <td>Houston</td>\n",
       "      <td>0.987266</td>\n",
       "      <td>0.852083</td>\n",
       "      <td>0.990823</td>\n",
       "      <td>1.020251</td>\n",
       "      <td>0 out of 10</td>\n",
       "      <td>0 out of 9</td>\n",
       "      <td>0 out of 10</td>\n",
       "    </tr>\n",
       "    <tr>\n",
       "      <th>1</th>\n",
       "      <td>2021</td>\n",
       "      <td>10005</td>\n",
       "      <td>MARSHALL MEDICAL CENTERS SOUTH CAMPUS</td>\n",
       "      <td>2505 U S HIGHWAY 431 NORTH</td>\n",
       "      <td>BOAZ</td>\n",
       "      <td>AL</td>\n",
       "      <td>35957</td>\n",
       "      <td>Marshall</td>\n",
       "      <td>0.987266</td>\n",
       "      <td>0.852083</td>\n",
       "      <td>1.011978</td>\n",
       "      <td>1.011867</td>\n",
       "      <td>0 out of 10</td>\n",
       "      <td>0 out of 9</td>\n",
       "      <td>0 out of 10</td>\n",
       "    </tr>\n",
       "    <tr>\n",
       "      <th>2</th>\n",
       "      <td>2021</td>\n",
       "      <td>10006</td>\n",
       "      <td>NORTH ALABAMA MEDICAL CENTER</td>\n",
       "      <td>1701 VETERANS DRIVE</td>\n",
       "      <td>FLORENCE</td>\n",
       "      <td>AL</td>\n",
       "      <td>35630</td>\n",
       "      <td>Lauderdale</td>\n",
       "      <td>0.987266</td>\n",
       "      <td>0.852083</td>\n",
       "      <td>0.990700</td>\n",
       "      <td>1.016924</td>\n",
       "      <td>0 out of 10</td>\n",
       "      <td>0 out of 9</td>\n",
       "      <td>0 out of 10</td>\n",
       "    </tr>\n",
       "    <tr>\n",
       "      <th>3</th>\n",
       "      <td>2021</td>\n",
       "      <td>10007</td>\n",
       "      <td>MIZELL MEMORIAL HOSPITAL</td>\n",
       "      <td>702 N MAIN ST</td>\n",
       "      <td>OPP</td>\n",
       "      <td>AL</td>\n",
       "      <td>36467</td>\n",
       "      <td>Covington</td>\n",
       "      <td>0.987266</td>\n",
       "      <td>0.852083</td>\n",
       "      <td>1.084358</td>\n",
       "      <td>1.110418</td>\n",
       "      <td>0 out of 10</td>\n",
       "      <td>0 out of 9</td>\n",
       "      <td>0 out of 10</td>\n",
       "    </tr>\n",
       "    <tr>\n",
       "      <th>4</th>\n",
       "      <td>2021</td>\n",
       "      <td>10011</td>\n",
       "      <td>ST VINCENT'S EAST</td>\n",
       "      <td>50 MEDICAL PARK EAST DRIVE</td>\n",
       "      <td>BIRMINGHAM</td>\n",
       "      <td>AL</td>\n",
       "      <td>35235</td>\n",
       "      <td>Jefferson</td>\n",
       "      <td>0.987266</td>\n",
       "      <td>0.852083</td>\n",
       "      <td>1.048820</td>\n",
       "      <td>1.029416</td>\n",
       "      <td>0 out of 10</td>\n",
       "      <td>0 out of 9</td>\n",
       "      <td>0 out of 10</td>\n",
       "    </tr>\n",
       "    <tr>\n",
       "      <th>...</th>\n",
       "      <td>...</td>\n",
       "      <td>...</td>\n",
       "      <td>...</td>\n",
       "      <td>...</td>\n",
       "      <td>...</td>\n",
       "      <td>...</td>\n",
       "      <td>...</td>\n",
       "      <td>...</td>\n",
       "      <td>...</td>\n",
       "      <td>...</td>\n",
       "      <td>...</td>\n",
       "      <td>...</td>\n",
       "      <td>...</td>\n",
       "      <td>...</td>\n",
       "      <td>...</td>\n",
       "    </tr>\n",
       "    <tr>\n",
       "      <th>2671</th>\n",
       "      <td>2021</td>\n",
       "      <td>670103</td>\n",
       "      <td>MEDICAL CITY ALLIANCE</td>\n",
       "      <td>3101 NORTH TARRANT PARKWAY</td>\n",
       "      <td>FORT WORTH</td>\n",
       "      <td>TX</td>\n",
       "      <td>76177</td>\n",
       "      <td>Tarrant</td>\n",
       "      <td>0.987266</td>\n",
       "      <td>0.852083</td>\n",
       "      <td>1.080746</td>\n",
       "      <td>1.012897</td>\n",
       "      <td>0 out of 10</td>\n",
       "      <td>2 out of 9</td>\n",
       "      <td>2 out of 10</td>\n",
       "    </tr>\n",
       "    <tr>\n",
       "      <th>2672</th>\n",
       "      <td>2021</td>\n",
       "      <td>670106</td>\n",
       "      <td>HCA HOUSTON HEALTHCARE PEARLAND</td>\n",
       "      <td>11100 SHADOW CREEK PARKWAY</td>\n",
       "      <td>PEARLAND</td>\n",
       "      <td>TX</td>\n",
       "      <td>77584</td>\n",
       "      <td>Brazoria</td>\n",
       "      <td>0.987266</td>\n",
       "      <td>0.852083</td>\n",
       "      <td>1.026897</td>\n",
       "      <td>1.021604</td>\n",
       "      <td>0 out of 10</td>\n",
       "      <td>0 out of 9</td>\n",
       "      <td>0 out of 10</td>\n",
       "    </tr>\n",
       "    <tr>\n",
       "      <th>2673</th>\n",
       "      <td>2021</td>\n",
       "      <td>670108</td>\n",
       "      <td>BAYLOR SCOTT &amp; WHITE MEDICAL CENTER - MARBLE F...</td>\n",
       "      <td>810 W HIGHWAY 71</td>\n",
       "      <td>MARBLE FALLS</td>\n",
       "      <td>TX</td>\n",
       "      <td>78654</td>\n",
       "      <td>Burnet</td>\n",
       "      <td>0.987266</td>\n",
       "      <td>0.852083</td>\n",
       "      <td>1.086531</td>\n",
       "      <td>1.017254</td>\n",
       "      <td>0 out of 10</td>\n",
       "      <td>2 out of 9</td>\n",
       "      <td>2 out of 10</td>\n",
       "    </tr>\n",
       "    <tr>\n",
       "      <th>2674</th>\n",
       "      <td>2021</td>\n",
       "      <td>670120</td>\n",
       "      <td>THE HOSPITALS OF PROVIDENCE TRANSMOUNTAIN CAMPUS</td>\n",
       "      <td>2000 TRANSMOUNTAIN RD</td>\n",
       "      <td>EL PASO</td>\n",
       "      <td>TX</td>\n",
       "      <td>79911</td>\n",
       "      <td>El Paso</td>\n",
       "      <td>0.987266</td>\n",
       "      <td>0.852083</td>\n",
       "      <td>1.107606</td>\n",
       "      <td>1.071921</td>\n",
       "      <td>0 out of 10</td>\n",
       "      <td>1 out of 9</td>\n",
       "      <td>1 out of 10</td>\n",
       "    </tr>\n",
       "    <tr>\n",
       "      <th>2675</th>\n",
       "      <td>2021</td>\n",
       "      <td>670122</td>\n",
       "      <td>HOUSTON METHODIST THE WOODLANDS HOSPITAL</td>\n",
       "      <td>17201 INTERSTATE 45 SOUTH</td>\n",
       "      <td>THE WOODLANDS</td>\n",
       "      <td>TX</td>\n",
       "      <td>77385</td>\n",
       "      <td>Montgomery</td>\n",
       "      <td>0.987266</td>\n",
       "      <td>0.852083</td>\n",
       "      <td>1.074268</td>\n",
       "      <td>1.073584</td>\n",
       "      <td>0 out of 10</td>\n",
       "      <td>0 out of 9</td>\n",
       "      <td>0 out of 10</td>\n",
       "    </tr>\n",
       "  </tbody>\n",
       "</table>\n",
       "<p>2676 rows × 15 columns</p>\n",
       "</div>"
      ],
      "text/plain": [
       "      Fiscal Year  Facility ID  \\\n",
       "0            2021        10001   \n",
       "1            2021        10005   \n",
       "2            2021        10006   \n",
       "3            2021        10007   \n",
       "4            2021        10011   \n",
       "...           ...          ...   \n",
       "2671         2021       670103   \n",
       "2672         2021       670106   \n",
       "2673         2021       670108   \n",
       "2674         2021       670120   \n",
       "2675         2021       670122   \n",
       "\n",
       "                                          Facility Name  \\\n",
       "0                      SOUTHEAST ALABAMA MEDICAL CENTER   \n",
       "1                 MARSHALL MEDICAL CENTERS SOUTH CAMPUS   \n",
       "2                          NORTH ALABAMA MEDICAL CENTER   \n",
       "3                              MIZELL MEMORIAL HOSPITAL   \n",
       "4                                     ST VINCENT'S EAST   \n",
       "...                                                 ...   \n",
       "2671                              MEDICAL CITY ALLIANCE   \n",
       "2672                    HCA HOUSTON HEALTHCARE PEARLAND   \n",
       "2673  BAYLOR SCOTT & WHITE MEDICAL CENTER - MARBLE F...   \n",
       "2674   THE HOSPITALS OF PROVIDENCE TRANSMOUNTAIN CAMPUS   \n",
       "2675           HOUSTON METHODIST THE WOODLANDS HOSPITAL   \n",
       "\n",
       "                         Address           City State  ZIP Code County Name  \\\n",
       "0         1108 ROSS CLARK CIRCLE         DOTHAN    AL     36301     Houston   \n",
       "1     2505 U S HIGHWAY 431 NORTH           BOAZ    AL     35957    Marshall   \n",
       "2            1701 VETERANS DRIVE       FLORENCE    AL     35630  Lauderdale   \n",
       "3                  702 N MAIN ST            OPP    AL     36467   Covington   \n",
       "4     50 MEDICAL PARK EAST DRIVE     BIRMINGHAM    AL     35235   Jefferson   \n",
       "...                          ...            ...   ...       ...         ...   \n",
       "2671  3101 NORTH TARRANT PARKWAY     FORT WORTH    TX     76177     Tarrant   \n",
       "2672  11100 SHADOW CREEK PARKWAY       PEARLAND    TX     77584    Brazoria   \n",
       "2673            810 W HIGHWAY 71   MARBLE FALLS    TX     78654      Burnet   \n",
       "2674       2000 TRANSMOUNTAIN RD        EL PASO    TX     79911     El Paso   \n",
       "2675   17201 INTERSTATE 45 SOUTH  THE WOODLANDS    TX     77385  Montgomery   \n",
       "\n",
       "      MSPB-1 Achievement Threshold  MSPB-1 Benchmark MSPB-1 Baseline Rate  \\\n",
       "0                         0.987266          0.852083             0.990823   \n",
       "1                         0.987266          0.852083             1.011978   \n",
       "2                         0.987266          0.852083             0.990700   \n",
       "3                         0.987266          0.852083             1.084358   \n",
       "4                         0.987266          0.852083             1.048820   \n",
       "...                            ...               ...                  ...   \n",
       "2671                      0.987266          0.852083             1.080746   \n",
       "2672                      0.987266          0.852083             1.026897   \n",
       "2673                      0.987266          0.852083             1.086531   \n",
       "2674                      0.987266          0.852083             1.107606   \n",
       "2675                      0.987266          0.852083             1.074268   \n",
       "\n",
       "     MSPB-1 Performance Rate MSPB-1 Achievement Points  \\\n",
       "0                   1.020251               0 out of 10   \n",
       "1                   1.011867               0 out of 10   \n",
       "2                   1.016924               0 out of 10   \n",
       "3                   1.110418               0 out of 10   \n",
       "4                   1.029416               0 out of 10   \n",
       "...                      ...                       ...   \n",
       "2671                1.012897               0 out of 10   \n",
       "2672                1.021604               0 out of 10   \n",
       "2673                1.017254               0 out of 10   \n",
       "2674                1.071921               0 out of 10   \n",
       "2675                1.073584               0 out of 10   \n",
       "\n",
       "     MSPB-1 Improvement Points MSPB-1 Measure Score  \n",
       "0                   0 out of 9          0 out of 10  \n",
       "1                   0 out of 9          0 out of 10  \n",
       "2                   0 out of 9          0 out of 10  \n",
       "3                   0 out of 9          0 out of 10  \n",
       "4                   0 out of 9          0 out of 10  \n",
       "...                        ...                  ...  \n",
       "2671                2 out of 9          2 out of 10  \n",
       "2672                0 out of 9          0 out of 10  \n",
       "2673                2 out of 9          2 out of 10  \n",
       "2674                1 out of 9          1 out of 10  \n",
       "2675                0 out of 9          0 out of 10  \n",
       "\n",
       "[2676 rows x 15 columns]"
      ]
     },
     "execution_count": 6,
     "metadata": {},
     "output_type": "execute_result"
    }
   ],
   "source": [
    "hospital_data"
   ]
  },
  {
   "cell_type": "code",
   "execution_count": 7,
   "metadata": {},
   "outputs": [
    {
     "data": {
      "text/html": [
       "<div>\n",
       "<style scoped>\n",
       "    .dataframe tbody tr th:only-of-type {\n",
       "        vertical-align: middle;\n",
       "    }\n",
       "\n",
       "    .dataframe tbody tr th {\n",
       "        vertical-align: top;\n",
       "    }\n",
       "\n",
       "    .dataframe thead th {\n",
       "        text-align: right;\n",
       "    }\n",
       "</style>\n",
       "<table border=\"1\" class=\"dataframe\">\n",
       "  <thead>\n",
       "    <tr style=\"text-align: right;\">\n",
       "      <th></th>\n",
       "      <th>State</th>\n",
       "      <th>CMS Certification Number (CCN)</th>\n",
       "      <th>Provider Name</th>\n",
       "      <th>Address</th>\n",
       "      <th>City</th>\n",
       "      <th>ZIP</th>\n",
       "      <th>Phone</th>\n",
       "      <th>Type of Ownership</th>\n",
       "      <th>Offers Nursing Care Services</th>\n",
       "      <th>Offers Physical Therapy Services</th>\n",
       "      <th>...</th>\n",
       "      <th>PPR Denominator</th>\n",
       "      <th>PPR Observed Rate</th>\n",
       "      <th>PPR Risk-Standardized Rate</th>\n",
       "      <th>PPR Risk-Standardized Rate (Lower Limit)</th>\n",
       "      <th>PPR Risk-Standardized Rate (Upper Limit)</th>\n",
       "      <th>PPR Performance Categorization</th>\n",
       "      <th>Footnote for PPR Risk-Standardized Rate</th>\n",
       "      <th>How much Medicare spends on an episode of care at this agency, compared to Medicare spending across all agencies nationally</th>\n",
       "      <th>Footnote for how much Medicare spends on an episode of care at this agency, compared to Medicare spending across all agencies nationally</th>\n",
       "      <th>No. of episodes to calc how much Medicare spends per episode of care at agency, compared to spending at all agencies (national)</th>\n",
       "    </tr>\n",
       "  </thead>\n",
       "  <tbody>\n",
       "    <tr>\n",
       "      <th>0</th>\n",
       "      <td>AL</td>\n",
       "      <td>17000</td>\n",
       "      <td>ALABAMA DEPARTMENT OF PUBLIC HEALTH HOME CARE</td>\n",
       "      <td>201 MONROE STREET, THE RSA TOWER,  SUITE 1200</td>\n",
       "      <td>MONTGOMERY</td>\n",
       "      <td>36104</td>\n",
       "      <td>3342065341</td>\n",
       "      <td>GOVERNMENT - STATE/COUNTY</td>\n",
       "      <td>Yes</td>\n",
       "      <td>Yes</td>\n",
       "      <td>...</td>\n",
       "      <td>434.0</td>\n",
       "      <td>3.69</td>\n",
       "      <td>3.34</td>\n",
       "      <td>2.50</td>\n",
       "      <td>4.39</td>\n",
       "      <td>Same As National Rate</td>\n",
       "      <td>NaN</td>\n",
       "      <td>0.89</td>\n",
       "      <td>NaN</td>\n",
       "      <td>2130</td>\n",
       "    </tr>\n",
       "    <tr>\n",
       "      <th>1</th>\n",
       "      <td>AL</td>\n",
       "      <td>17009</td>\n",
       "      <td>ENCOMPASS HEALTH HOME HEALTH</td>\n",
       "      <td>2970 LORNA ROAD</td>\n",
       "      <td>BIRMINGHAM</td>\n",
       "      <td>35216</td>\n",
       "      <td>2058242680</td>\n",
       "      <td>PROPRIETARY</td>\n",
       "      <td>Yes</td>\n",
       "      <td>Yes</td>\n",
       "      <td>...</td>\n",
       "      <td>7190.0</td>\n",
       "      <td>2.89</td>\n",
       "      <td>2.95</td>\n",
       "      <td>2.60</td>\n",
       "      <td>3.31</td>\n",
       "      <td>Better Than National Rate</td>\n",
       "      <td>NaN</td>\n",
       "      <td>0.99</td>\n",
       "      <td>NaN</td>\n",
       "      <td>19072</td>\n",
       "    </tr>\n",
       "    <tr>\n",
       "      <th>2</th>\n",
       "      <td>AL</td>\n",
       "      <td>17013</td>\n",
       "      <td>KINDRED AT HOME</td>\n",
       "      <td>1239 RUCKER BLVD</td>\n",
       "      <td>ENTERPRISE</td>\n",
       "      <td>36330</td>\n",
       "      <td>3343470234</td>\n",
       "      <td>PROPRIETARY</td>\n",
       "      <td>Yes</td>\n",
       "      <td>Yes</td>\n",
       "      <td>...</td>\n",
       "      <td>530.0</td>\n",
       "      <td>2.83</td>\n",
       "      <td>3.62</td>\n",
       "      <td>2.67</td>\n",
       "      <td>4.75</td>\n",
       "      <td>Same As National Rate</td>\n",
       "      <td>NaN</td>\n",
       "      <td>1.08</td>\n",
       "      <td>NaN</td>\n",
       "      <td>1734</td>\n",
       "    </tr>\n",
       "    <tr>\n",
       "      <th>3</th>\n",
       "      <td>AL</td>\n",
       "      <td>17014</td>\n",
       "      <td>AMEDISYS HOME HEALTH</td>\n",
       "      <td>68278 MAIN STREET</td>\n",
       "      <td>BLOUNTSVILLE</td>\n",
       "      <td>35031</td>\n",
       "      <td>8664864919</td>\n",
       "      <td>PROPRIETARY</td>\n",
       "      <td>Yes</td>\n",
       "      <td>Yes</td>\n",
       "      <td>...</td>\n",
       "      <td>345.0</td>\n",
       "      <td>4.06</td>\n",
       "      <td>3.56</td>\n",
       "      <td>2.62</td>\n",
       "      <td>4.84</td>\n",
       "      <td>Same As National Rate</td>\n",
       "      <td>NaN</td>\n",
       "      <td>0.98</td>\n",
       "      <td>NaN</td>\n",
       "      <td>882</td>\n",
       "    </tr>\n",
       "    <tr>\n",
       "      <th>4</th>\n",
       "      <td>AL</td>\n",
       "      <td>17016</td>\n",
       "      <td>SOUTHEAST ALABAMA HOMECARE</td>\n",
       "      <td>804 GLOVER AVENUE</td>\n",
       "      <td>ENTERPRISE</td>\n",
       "      <td>36330</td>\n",
       "      <td>3343474800</td>\n",
       "      <td>PROPRIETARY</td>\n",
       "      <td>Yes</td>\n",
       "      <td>Yes</td>\n",
       "      <td>...</td>\n",
       "      <td>424.0</td>\n",
       "      <td>2.83</td>\n",
       "      <td>3.34</td>\n",
       "      <td>2.48</td>\n",
       "      <td>4.54</td>\n",
       "      <td>Same As National Rate</td>\n",
       "      <td>NaN</td>\n",
       "      <td>0.99</td>\n",
       "      <td>NaN</td>\n",
       "      <td>1187</td>\n",
       "    </tr>\n",
       "    <tr>\n",
       "      <th>...</th>\n",
       "      <td>...</td>\n",
       "      <td>...</td>\n",
       "      <td>...</td>\n",
       "      <td>...</td>\n",
       "      <td>...</td>\n",
       "      <td>...</td>\n",
       "      <td>...</td>\n",
       "      <td>...</td>\n",
       "      <td>...</td>\n",
       "      <td>...</td>\n",
       "      <td>...</td>\n",
       "      <td>...</td>\n",
       "      <td>...</td>\n",
       "      <td>...</td>\n",
       "      <td>...</td>\n",
       "      <td>...</td>\n",
       "      <td>...</td>\n",
       "      <td>...</td>\n",
       "      <td>...</td>\n",
       "      <td>...</td>\n",
       "      <td>...</td>\n",
       "    </tr>\n",
       "    <tr>\n",
       "      <th>11171</th>\n",
       "      <td>CA</td>\n",
       "      <td>559124</td>\n",
       "      <td>CARE HOME HEALTH INC</td>\n",
       "      <td>7200 VINELAND AVENUE, SUITE 213</td>\n",
       "      <td>SUN VALLEY</td>\n",
       "      <td>91352</td>\n",
       "      <td>8188595734</td>\n",
       "      <td>PROPRIETARY</td>\n",
       "      <td>Yes</td>\n",
       "      <td>Yes</td>\n",
       "      <td>...</td>\n",
       "      <td>NaN</td>\n",
       "      <td>NaN</td>\n",
       "      <td>NaN</td>\n",
       "      <td>NaN</td>\n",
       "      <td>NaN</td>\n",
       "      <td>NaN</td>\n",
       "      <td>This measure currently does not have data or p...</td>\n",
       "      <td>NaN</td>\n",
       "      <td>This measure currently does not have data or p...</td>\n",
       "      <td>0</td>\n",
       "    </tr>\n",
       "    <tr>\n",
       "      <th>11172</th>\n",
       "      <td>CA</td>\n",
       "      <td>559125</td>\n",
       "      <td>BELANI HOME HEALTH CARE, INC</td>\n",
       "      <td>2609 WEST WYOMING AVE, SUITE B</td>\n",
       "      <td>BURBANK</td>\n",
       "      <td>91505</td>\n",
       "      <td>8188357986</td>\n",
       "      <td>PROPRIETARY</td>\n",
       "      <td>Yes</td>\n",
       "      <td>Yes</td>\n",
       "      <td>...</td>\n",
       "      <td>NaN</td>\n",
       "      <td>NaN</td>\n",
       "      <td>NaN</td>\n",
       "      <td>NaN</td>\n",
       "      <td>NaN</td>\n",
       "      <td>NaN</td>\n",
       "      <td>This measure currently does not have data or p...</td>\n",
       "      <td>NaN</td>\n",
       "      <td>This measure currently does not have data or p...</td>\n",
       "      <td>0</td>\n",
       "    </tr>\n",
       "    <tr>\n",
       "      <th>11173</th>\n",
       "      <td>CA</td>\n",
       "      <td>559128</td>\n",
       "      <td>SAGE HOME HEALTH CARE, INC</td>\n",
       "      <td>20944 SHERMAN WAY, SUITE 108</td>\n",
       "      <td>CANOGA PARK</td>\n",
       "      <td>91303</td>\n",
       "      <td>8189456331</td>\n",
       "      <td>PROPRIETARY</td>\n",
       "      <td>Yes</td>\n",
       "      <td>Yes</td>\n",
       "      <td>...</td>\n",
       "      <td>NaN</td>\n",
       "      <td>NaN</td>\n",
       "      <td>NaN</td>\n",
       "      <td>NaN</td>\n",
       "      <td>NaN</td>\n",
       "      <td>NaN</td>\n",
       "      <td>This measure currently does not have data or p...</td>\n",
       "      <td>NaN</td>\n",
       "      <td>This measure currently does not have data or p...</td>\n",
       "      <td>0</td>\n",
       "    </tr>\n",
       "    <tr>\n",
       "      <th>11174</th>\n",
       "      <td>CA</td>\n",
       "      <td>559132</td>\n",
       "      <td>TEMPLE OF LIFE HOME CARE</td>\n",
       "      <td>18340 VENTURA BLVD, SUITE 220</td>\n",
       "      <td>TARZANA</td>\n",
       "      <td>91356</td>\n",
       "      <td>7472363155</td>\n",
       "      <td>PROPRIETARY</td>\n",
       "      <td>Yes</td>\n",
       "      <td>Yes</td>\n",
       "      <td>...</td>\n",
       "      <td>NaN</td>\n",
       "      <td>NaN</td>\n",
       "      <td>NaN</td>\n",
       "      <td>NaN</td>\n",
       "      <td>NaN</td>\n",
       "      <td>NaN</td>\n",
       "      <td>This measure currently does not have data or p...</td>\n",
       "      <td>NaN</td>\n",
       "      <td>This measure currently does not have data or p...</td>\n",
       "      <td>0</td>\n",
       "    </tr>\n",
       "    <tr>\n",
       "      <th>11175</th>\n",
       "      <td>CA</td>\n",
       "      <td>559127</td>\n",
       "      <td>PROMED HEALTH PROVIDERS, INC</td>\n",
       "      <td>1614 VICTORY BLVD, SUITE 104</td>\n",
       "      <td>GLENDALE</td>\n",
       "      <td>91201</td>\n",
       "      <td>8183928080</td>\n",
       "      <td>PROPRIETARY</td>\n",
       "      <td>Yes</td>\n",
       "      <td>Yes</td>\n",
       "      <td>...</td>\n",
       "      <td>NaN</td>\n",
       "      <td>NaN</td>\n",
       "      <td>NaN</td>\n",
       "      <td>NaN</td>\n",
       "      <td>NaN</td>\n",
       "      <td>NaN</td>\n",
       "      <td>This measure currently does not have data or p...</td>\n",
       "      <td>NaN</td>\n",
       "      <td>This measure currently does not have data or p...</td>\n",
       "      <td>0</td>\n",
       "    </tr>\n",
       "  </tbody>\n",
       "</table>\n",
       "<p>11176 rows × 70 columns</p>\n",
       "</div>"
      ],
      "text/plain": [
       "      State  CMS Certification Number (CCN)  \\\n",
       "0        AL                           17000   \n",
       "1        AL                           17009   \n",
       "2        AL                           17013   \n",
       "3        AL                           17014   \n",
       "4        AL                           17016   \n",
       "...     ...                             ...   \n",
       "11171    CA                          559124   \n",
       "11172    CA                          559125   \n",
       "11173    CA                          559128   \n",
       "11174    CA                          559132   \n",
       "11175    CA                          559127   \n",
       "\n",
       "                                       Provider Name  \\\n",
       "0      ALABAMA DEPARTMENT OF PUBLIC HEALTH HOME CARE   \n",
       "1                       ENCOMPASS HEALTH HOME HEALTH   \n",
       "2                                    KINDRED AT HOME   \n",
       "3                               AMEDISYS HOME HEALTH   \n",
       "4                         SOUTHEAST ALABAMA HOMECARE   \n",
       "...                                              ...   \n",
       "11171                           CARE HOME HEALTH INC   \n",
       "11172                   BELANI HOME HEALTH CARE, INC   \n",
       "11173                     SAGE HOME HEALTH CARE, INC   \n",
       "11174                       TEMPLE OF LIFE HOME CARE   \n",
       "11175                   PROMED HEALTH PROVIDERS, INC   \n",
       "\n",
       "                                             Address          City    ZIP  \\\n",
       "0      201 MONROE STREET, THE RSA TOWER,  SUITE 1200    MONTGOMERY  36104   \n",
       "1                                    2970 LORNA ROAD    BIRMINGHAM  35216   \n",
       "2                                   1239 RUCKER BLVD    ENTERPRISE  36330   \n",
       "3                                  68278 MAIN STREET  BLOUNTSVILLE  35031   \n",
       "4                                  804 GLOVER AVENUE    ENTERPRISE  36330   \n",
       "...                                              ...           ...    ...   \n",
       "11171                7200 VINELAND AVENUE, SUITE 213    SUN VALLEY  91352   \n",
       "11172                 2609 WEST WYOMING AVE, SUITE B       BURBANK  91505   \n",
       "11173                   20944 SHERMAN WAY, SUITE 108   CANOGA PARK  91303   \n",
       "11174                  18340 VENTURA BLVD, SUITE 220       TARZANA  91356   \n",
       "11175                   1614 VICTORY BLVD, SUITE 104      GLENDALE  91201   \n",
       "\n",
       "            Phone          Type of Ownership Offers Nursing Care Services  \\\n",
       "0      3342065341  GOVERNMENT - STATE/COUNTY                          Yes   \n",
       "1      2058242680                PROPRIETARY                          Yes   \n",
       "2      3343470234                PROPRIETARY                          Yes   \n",
       "3      8664864919                PROPRIETARY                          Yes   \n",
       "4      3343474800                PROPRIETARY                          Yes   \n",
       "...           ...                        ...                          ...   \n",
       "11171  8188595734                PROPRIETARY                          Yes   \n",
       "11172  8188357986                PROPRIETARY                          Yes   \n",
       "11173  8189456331                PROPRIETARY                          Yes   \n",
       "11174  7472363155                PROPRIETARY                          Yes   \n",
       "11175  8183928080                PROPRIETARY                          Yes   \n",
       "\n",
       "      Offers Physical Therapy Services  ... PPR Denominator PPR Observed Rate  \\\n",
       "0                                  Yes  ...           434.0              3.69   \n",
       "1                                  Yes  ...          7190.0              2.89   \n",
       "2                                  Yes  ...           530.0              2.83   \n",
       "3                                  Yes  ...           345.0              4.06   \n",
       "4                                  Yes  ...           424.0              2.83   \n",
       "...                                ...  ...             ...               ...   \n",
       "11171                              Yes  ...             NaN               NaN   \n",
       "11172                              Yes  ...             NaN               NaN   \n",
       "11173                              Yes  ...             NaN               NaN   \n",
       "11174                              Yes  ...             NaN               NaN   \n",
       "11175                              Yes  ...             NaN               NaN   \n",
       "\n",
       "      PPR Risk-Standardized Rate PPR Risk-Standardized Rate (Lower Limit)  \\\n",
       "0                           3.34                                     2.50   \n",
       "1                           2.95                                     2.60   \n",
       "2                           3.62                                     2.67   \n",
       "3                           3.56                                     2.62   \n",
       "4                           3.34                                     2.48   \n",
       "...                          ...                                      ...   \n",
       "11171                        NaN                                      NaN   \n",
       "11172                        NaN                                      NaN   \n",
       "11173                        NaN                                      NaN   \n",
       "11174                        NaN                                      NaN   \n",
       "11175                        NaN                                      NaN   \n",
       "\n",
       "      PPR Risk-Standardized Rate (Upper Limit)  \\\n",
       "0                                         4.39   \n",
       "1                                         3.31   \n",
       "2                                         4.75   \n",
       "3                                         4.84   \n",
       "4                                         4.54   \n",
       "...                                        ...   \n",
       "11171                                      NaN   \n",
       "11172                                      NaN   \n",
       "11173                                      NaN   \n",
       "11174                                      NaN   \n",
       "11175                                      NaN   \n",
       "\n",
       "       PPR Performance Categorization  \\\n",
       "0               Same As National Rate   \n",
       "1           Better Than National Rate   \n",
       "2               Same As National Rate   \n",
       "3               Same As National Rate   \n",
       "4               Same As National Rate   \n",
       "...                               ...   \n",
       "11171                             NaN   \n",
       "11172                             NaN   \n",
       "11173                             NaN   \n",
       "11174                             NaN   \n",
       "11175                             NaN   \n",
       "\n",
       "                 Footnote for PPR Risk-Standardized Rate  \\\n",
       "0                                                    NaN   \n",
       "1                                                    NaN   \n",
       "2                                                    NaN   \n",
       "3                                                    NaN   \n",
       "4                                                    NaN   \n",
       "...                                                  ...   \n",
       "11171  This measure currently does not have data or p...   \n",
       "11172  This measure currently does not have data or p...   \n",
       "11173  This measure currently does not have data or p...   \n",
       "11174  This measure currently does not have data or p...   \n",
       "11175  This measure currently does not have data or p...   \n",
       "\n",
       "       How much Medicare spends on an episode of care at this agency, compared to Medicare spending across all agencies nationally  \\\n",
       "0                                                   0.89                                                                             \n",
       "1                                                   0.99                                                                             \n",
       "2                                                   1.08                                                                             \n",
       "3                                                   0.98                                                                             \n",
       "4                                                   0.99                                                                             \n",
       "...                                                  ...                                                                             \n",
       "11171                                                NaN                                                                             \n",
       "11172                                                NaN                                                                             \n",
       "11173                                                NaN                                                                             \n",
       "11174                                                NaN                                                                             \n",
       "11175                                                NaN                                                                             \n",
       "\n",
       "      Footnote for how much Medicare spends on an episode of care at this agency, compared to Medicare spending across all agencies nationally  \\\n",
       "0                                                    NaN                                                                                         \n",
       "1                                                    NaN                                                                                         \n",
       "2                                                    NaN                                                                                         \n",
       "3                                                    NaN                                                                                         \n",
       "4                                                    NaN                                                                                         \n",
       "...                                                  ...                                                                                         \n",
       "11171  This measure currently does not have data or p...                                                                                         \n",
       "11172  This measure currently does not have data or p...                                                                                         \n",
       "11173  This measure currently does not have data or p...                                                                                         \n",
       "11174  This measure currently does not have data or p...                                                                                         \n",
       "11175  This measure currently does not have data or p...                                                                                         \n",
       "\n",
       "       No. of episodes to calc how much Medicare spends per episode of care at agency, compared to spending at all agencies (national)  \n",
       "0                                                   2130                                                                                \n",
       "1                                                  19072                                                                                \n",
       "2                                                   1734                                                                                \n",
       "3                                                    882                                                                                \n",
       "4                                                   1187                                                                                \n",
       "...                                                  ...                                                                                \n",
       "11171                                                  0                                                                                \n",
       "11172                                                  0                                                                                \n",
       "11173                                                  0                                                                                \n",
       "11174                                                  0                                                                                \n",
       "11175                                                  0                                                                                \n",
       "\n",
       "[11176 rows x 70 columns]"
      ]
     },
     "execution_count": 7,
     "metadata": {},
     "output_type": "execute_result"
    }
   ],
   "source": [
    "home_hospital_data"
   ]
  },
  {
   "cell_type": "code",
   "execution_count": null,
   "metadata": {},
   "outputs": [],
   "source": []
  },
  {
   "cell_type": "markdown",
   "metadata": {},
   "source": [
    "# 1. Hospital Data"
   ]
  },
  {
   "cell_type": "code",
   "execution_count": 8,
   "metadata": {},
   "outputs": [
    {
     "data": {
      "text/html": [
       "<div>\n",
       "<style scoped>\n",
       "    .dataframe tbody tr th:only-of-type {\n",
       "        vertical-align: middle;\n",
       "    }\n",
       "\n",
       "    .dataframe tbody tr th {\n",
       "        vertical-align: top;\n",
       "    }\n",
       "\n",
       "    .dataframe thead th {\n",
       "        text-align: right;\n",
       "    }\n",
       "</style>\n",
       "<table border=\"1\" class=\"dataframe\">\n",
       "  <thead>\n",
       "    <tr style=\"text-align: right;\">\n",
       "      <th></th>\n",
       "      <th>Fiscal Year</th>\n",
       "      <th>Facility ID</th>\n",
       "      <th>Facility Name</th>\n",
       "      <th>Address</th>\n",
       "      <th>City</th>\n",
       "      <th>State</th>\n",
       "      <th>ZIP Code</th>\n",
       "      <th>County Name</th>\n",
       "      <th>MSPB-1 Achievement Threshold</th>\n",
       "      <th>MSPB-1 Benchmark</th>\n",
       "      <th>MSPB-1 Baseline Rate</th>\n",
       "      <th>MSPB-1 Performance Rate</th>\n",
       "      <th>MSPB-1 Achievement Points</th>\n",
       "      <th>MSPB-1 Improvement Points</th>\n",
       "      <th>MSPB-1 Measure Score</th>\n",
       "    </tr>\n",
       "  </thead>\n",
       "  <tbody>\n",
       "    <tr>\n",
       "      <th>0</th>\n",
       "      <td>2021</td>\n",
       "      <td>10001</td>\n",
       "      <td>SOUTHEAST ALABAMA MEDICAL CENTER</td>\n",
       "      <td>1108 ROSS CLARK CIRCLE</td>\n",
       "      <td>DOTHAN</td>\n",
       "      <td>AL</td>\n",
       "      <td>36301</td>\n",
       "      <td>Houston</td>\n",
       "      <td>0.987266</td>\n",
       "      <td>0.852083</td>\n",
       "      <td>0.990823</td>\n",
       "      <td>1.020251</td>\n",
       "      <td>0 out of 10</td>\n",
       "      <td>0 out of 9</td>\n",
       "      <td>0 out of 10</td>\n",
       "    </tr>\n",
       "    <tr>\n",
       "      <th>1</th>\n",
       "      <td>2021</td>\n",
       "      <td>10005</td>\n",
       "      <td>MARSHALL MEDICAL CENTERS SOUTH CAMPUS</td>\n",
       "      <td>2505 U S HIGHWAY 431 NORTH</td>\n",
       "      <td>BOAZ</td>\n",
       "      <td>AL</td>\n",
       "      <td>35957</td>\n",
       "      <td>Marshall</td>\n",
       "      <td>0.987266</td>\n",
       "      <td>0.852083</td>\n",
       "      <td>1.011978</td>\n",
       "      <td>1.011867</td>\n",
       "      <td>0 out of 10</td>\n",
       "      <td>0 out of 9</td>\n",
       "      <td>0 out of 10</td>\n",
       "    </tr>\n",
       "    <tr>\n",
       "      <th>2</th>\n",
       "      <td>2021</td>\n",
       "      <td>10006</td>\n",
       "      <td>NORTH ALABAMA MEDICAL CENTER</td>\n",
       "      <td>1701 VETERANS DRIVE</td>\n",
       "      <td>FLORENCE</td>\n",
       "      <td>AL</td>\n",
       "      <td>35630</td>\n",
       "      <td>Lauderdale</td>\n",
       "      <td>0.987266</td>\n",
       "      <td>0.852083</td>\n",
       "      <td>0.990700</td>\n",
       "      <td>1.016924</td>\n",
       "      <td>0 out of 10</td>\n",
       "      <td>0 out of 9</td>\n",
       "      <td>0 out of 10</td>\n",
       "    </tr>\n",
       "    <tr>\n",
       "      <th>3</th>\n",
       "      <td>2021</td>\n",
       "      <td>10007</td>\n",
       "      <td>MIZELL MEMORIAL HOSPITAL</td>\n",
       "      <td>702 N MAIN ST</td>\n",
       "      <td>OPP</td>\n",
       "      <td>AL</td>\n",
       "      <td>36467</td>\n",
       "      <td>Covington</td>\n",
       "      <td>0.987266</td>\n",
       "      <td>0.852083</td>\n",
       "      <td>1.084358</td>\n",
       "      <td>1.110418</td>\n",
       "      <td>0 out of 10</td>\n",
       "      <td>0 out of 9</td>\n",
       "      <td>0 out of 10</td>\n",
       "    </tr>\n",
       "    <tr>\n",
       "      <th>4</th>\n",
       "      <td>2021</td>\n",
       "      <td>10011</td>\n",
       "      <td>ST VINCENT'S EAST</td>\n",
       "      <td>50 MEDICAL PARK EAST DRIVE</td>\n",
       "      <td>BIRMINGHAM</td>\n",
       "      <td>AL</td>\n",
       "      <td>35235</td>\n",
       "      <td>Jefferson</td>\n",
       "      <td>0.987266</td>\n",
       "      <td>0.852083</td>\n",
       "      <td>1.048820</td>\n",
       "      <td>1.029416</td>\n",
       "      <td>0 out of 10</td>\n",
       "      <td>0 out of 9</td>\n",
       "      <td>0 out of 10</td>\n",
       "    </tr>\n",
       "  </tbody>\n",
       "</table>\n",
       "</div>"
      ],
      "text/plain": [
       "   Fiscal Year  Facility ID                          Facility Name  \\\n",
       "0         2021        10001       SOUTHEAST ALABAMA MEDICAL CENTER   \n",
       "1         2021        10005  MARSHALL MEDICAL CENTERS SOUTH CAMPUS   \n",
       "2         2021        10006           NORTH ALABAMA MEDICAL CENTER   \n",
       "3         2021        10007               MIZELL MEMORIAL HOSPITAL   \n",
       "4         2021        10011                      ST VINCENT'S EAST   \n",
       "\n",
       "                      Address        City State  ZIP Code County Name  \\\n",
       "0      1108 ROSS CLARK CIRCLE      DOTHAN    AL     36301     Houston   \n",
       "1  2505 U S HIGHWAY 431 NORTH        BOAZ    AL     35957    Marshall   \n",
       "2         1701 VETERANS DRIVE    FLORENCE    AL     35630  Lauderdale   \n",
       "3               702 N MAIN ST         OPP    AL     36467   Covington   \n",
       "4  50 MEDICAL PARK EAST DRIVE  BIRMINGHAM    AL     35235   Jefferson   \n",
       "\n",
       "   MSPB-1 Achievement Threshold  MSPB-1 Benchmark MSPB-1 Baseline Rate  \\\n",
       "0                      0.987266          0.852083             0.990823   \n",
       "1                      0.987266          0.852083             1.011978   \n",
       "2                      0.987266          0.852083             0.990700   \n",
       "3                      0.987266          0.852083             1.084358   \n",
       "4                      0.987266          0.852083             1.048820   \n",
       "\n",
       "  MSPB-1 Performance Rate MSPB-1 Achievement Points MSPB-1 Improvement Points  \\\n",
       "0                1.020251               0 out of 10                0 out of 9   \n",
       "1                1.011867               0 out of 10                0 out of 9   \n",
       "2                1.016924               0 out of 10                0 out of 9   \n",
       "3                1.110418               0 out of 10                0 out of 9   \n",
       "4                1.029416               0 out of 10                0 out of 9   \n",
       "\n",
       "  MSPB-1 Measure Score  \n",
       "0          0 out of 10  \n",
       "1          0 out of 10  \n",
       "2          0 out of 10  \n",
       "3          0 out of 10  \n",
       "4          0 out of 10  "
      ]
     },
     "execution_count": 8,
     "metadata": {},
     "output_type": "execute_result"
    }
   ],
   "source": [
    "hospital_data.head(5)"
   ]
  },
  {
   "cell_type": "code",
   "execution_count": 9,
   "metadata": {},
   "outputs": [
    {
     "data": {
      "text/plain": [
       "Fiscal Year                     0\n",
       "Facility ID                     0\n",
       "Facility Name                   0\n",
       "Address                         0\n",
       "City                            0\n",
       "State                           0\n",
       "ZIP Code                        0\n",
       "County Name                     0\n",
       "MSPB-1 Achievement Threshold    0\n",
       "MSPB-1 Benchmark                0\n",
       "MSPB-1 Baseline Rate            0\n",
       "MSPB-1 Performance Rate         0\n",
       "MSPB-1 Achievement Points       0\n",
       "MSPB-1 Improvement Points       0\n",
       "MSPB-1 Measure Score            0\n",
       "dtype: int64"
      ]
     },
     "execution_count": 9,
     "metadata": {},
     "output_type": "execute_result"
    }
   ],
   "source": [
    "df = hospital_data\n",
    "df.isnull().sum()\n",
    "#checking for missing values"
   ]
  },
  {
   "cell_type": "code",
   "execution_count": 10,
   "metadata": {},
   "outputs": [
    {
     "data": {
      "text/html": [
       "<div>\n",
       "<style scoped>\n",
       "    .dataframe tbody tr th:only-of-type {\n",
       "        vertical-align: middle;\n",
       "    }\n",
       "\n",
       "    .dataframe tbody tr th {\n",
       "        vertical-align: top;\n",
       "    }\n",
       "\n",
       "    .dataframe thead th {\n",
       "        text-align: right;\n",
       "    }\n",
       "</style>\n",
       "<table border=\"1\" class=\"dataframe\">\n",
       "  <thead>\n",
       "    <tr style=\"text-align: right;\">\n",
       "      <th></th>\n",
       "      <th>Fiscal Year</th>\n",
       "      <th>Facility ID</th>\n",
       "      <th>ZIP Code</th>\n",
       "      <th>MSPB-1 Achievement Threshold</th>\n",
       "      <th>MSPB-1 Benchmark</th>\n",
       "    </tr>\n",
       "  </thead>\n",
       "  <tbody>\n",
       "    <tr>\n",
       "      <th>count</th>\n",
       "      <td>2676.0</td>\n",
       "      <td>2676.000000</td>\n",
       "      <td>2676.000000</td>\n",
       "      <td>2.676000e+03</td>\n",
       "      <td>2676.000000</td>\n",
       "    </tr>\n",
       "    <tr>\n",
       "      <th>mean</th>\n",
       "      <td>2021.0</td>\n",
       "      <td>257057.961510</td>\n",
       "      <td>51525.653214</td>\n",
       "      <td>9.872660e-01</td>\n",
       "      <td>0.852083</td>\n",
       "    </tr>\n",
       "    <tr>\n",
       "      <th>std</th>\n",
       "      <td>0.0</td>\n",
       "      <td>159007.269926</td>\n",
       "      <td>28110.946167</td>\n",
       "      <td>1.110431e-16</td>\n",
       "      <td>0.000000</td>\n",
       "    </tr>\n",
       "    <tr>\n",
       "      <th>min</th>\n",
       "      <td>2021.0</td>\n",
       "      <td>10001.000000</td>\n",
       "      <td>1040.000000</td>\n",
       "      <td>9.872660e-01</td>\n",
       "      <td>0.852083</td>\n",
       "    </tr>\n",
       "    <tr>\n",
       "      <th>25%</th>\n",
       "      <td>2021.0</td>\n",
       "      <td>110023.750000</td>\n",
       "      <td>30039.000000</td>\n",
       "      <td>9.872660e-01</td>\n",
       "      <td>0.852083</td>\n",
       "    </tr>\n",
       "    <tr>\n",
       "      <th>50%</th>\n",
       "      <td>2021.0</td>\n",
       "      <td>250077.500000</td>\n",
       "      <td>48196.500000</td>\n",
       "      <td>9.872660e-01</td>\n",
       "      <td>0.852083</td>\n",
       "    </tr>\n",
       "    <tr>\n",
       "      <th>75%</th>\n",
       "      <td>2021.0</td>\n",
       "      <td>390046.500000</td>\n",
       "      <td>76104.000000</td>\n",
       "      <td>9.872660e-01</td>\n",
       "      <td>0.852083</td>\n",
       "    </tr>\n",
       "    <tr>\n",
       "      <th>max</th>\n",
       "      <td>2021.0</td>\n",
       "      <td>670122.000000</td>\n",
       "      <td>99801.000000</td>\n",
       "      <td>9.872660e-01</td>\n",
       "      <td>0.852083</td>\n",
       "    </tr>\n",
       "  </tbody>\n",
       "</table>\n",
       "</div>"
      ],
      "text/plain": [
       "       Fiscal Year    Facility ID      ZIP Code  MSPB-1 Achievement Threshold  \\\n",
       "count       2676.0    2676.000000   2676.000000                  2.676000e+03   \n",
       "mean        2021.0  257057.961510  51525.653214                  9.872660e-01   \n",
       "std            0.0  159007.269926  28110.946167                  1.110431e-16   \n",
       "min         2021.0   10001.000000   1040.000000                  9.872660e-01   \n",
       "25%         2021.0  110023.750000  30039.000000                  9.872660e-01   \n",
       "50%         2021.0  250077.500000  48196.500000                  9.872660e-01   \n",
       "75%         2021.0  390046.500000  76104.000000                  9.872660e-01   \n",
       "max         2021.0  670122.000000  99801.000000                  9.872660e-01   \n",
       "\n",
       "       MSPB-1 Benchmark  \n",
       "count       2676.000000  \n",
       "mean           0.852083  \n",
       "std            0.000000  \n",
       "min            0.852083  \n",
       "25%            0.852083  \n",
       "50%            0.852083  \n",
       "75%            0.852083  \n",
       "max            0.852083  "
      ]
     },
     "execution_count": 10,
     "metadata": {},
     "output_type": "execute_result"
    }
   ],
   "source": [
    "df.describe()"
   ]
  },
  {
   "cell_type": "markdown",
   "metadata": {},
   "source": [
    "We don't have any missing values in the dataset."
   ]
  },
  {
   "cell_type": "markdown",
   "metadata": {},
   "source": [
    "# 1.1 Data Cleaning"
   ]
  },
  {
   "cell_type": "markdown",
   "metadata": {},
   "source": [
    "we are going to remove the \"Year\", \"Address\", \"State\", \"County Name\",\"Zip Code\""
   ]
  },
  {
   "cell_type": "code",
   "execution_count": 11,
   "metadata": {},
   "outputs": [],
   "source": [
    "df = df.drop(['Fiscal Year','Address','ZIP Code','County Name'],axis=1)"
   ]
  },
  {
   "cell_type": "markdown",
   "metadata": {},
   "source": [
    "As the data type of \"MSPB-1 Baseline Rate\",\"MSPB-1 Performance Rate\",\"MSPB-1 Achievement Rate\",\"MSPB-1 Improvement Points\",\"MSPB-1 Measure Score\" is OBJECT,So we have to convert them into integer for data visualisation."
   ]
  },
  {
   "cell_type": "code",
   "execution_count": 12,
   "metadata": {
    "scrolled": true
   },
   "outputs": [
    {
     "data": {
      "text/plain": [
       "Facility ID                       int64\n",
       "Facility Name                    object\n",
       "City                             object\n",
       "State                            object\n",
       "MSPB-1 Achievement Threshold    float64\n",
       "MSPB-1 Benchmark                float64\n",
       "MSPB-1 Baseline Rate             object\n",
       "MSPB-1 Performance Rate          object\n",
       "MSPB-1 Achievement Points        object\n",
       "MSPB-1 Improvement Points        object\n",
       "MSPB-1 Measure Score             object\n",
       "dtype: object"
      ]
     },
     "execution_count": 12,
     "metadata": {},
     "output_type": "execute_result"
    }
   ],
   "source": [
    "df.dtypes"
   ]
  },
  {
   "cell_type": "markdown",
   "metadata": {},
   "source": [
    "First we check if any value in the dataset has NaN value!!"
   ]
  },
  {
   "cell_type": "code",
   "execution_count": 13,
   "metadata": {},
   "outputs": [
    {
     "data": {
      "text/html": [
       "<div>\n",
       "<style scoped>\n",
       "    .dataframe tbody tr th:only-of-type {\n",
       "        vertical-align: middle;\n",
       "    }\n",
       "\n",
       "    .dataframe tbody tr th {\n",
       "        vertical-align: top;\n",
       "    }\n",
       "\n",
       "    .dataframe thead th {\n",
       "        text-align: right;\n",
       "    }\n",
       "</style>\n",
       "<table border=\"1\" class=\"dataframe\">\n",
       "  <thead>\n",
       "    <tr style=\"text-align: right;\">\n",
       "      <th></th>\n",
       "      <th>Facility ID</th>\n",
       "      <th>Facility Name</th>\n",
       "      <th>City</th>\n",
       "      <th>State</th>\n",
       "      <th>MSPB-1 Achievement Threshold</th>\n",
       "      <th>MSPB-1 Benchmark</th>\n",
       "      <th>MSPB-1 Baseline Rate</th>\n",
       "      <th>MSPB-1 Performance Rate</th>\n",
       "      <th>MSPB-1 Achievement Points</th>\n",
       "      <th>MSPB-1 Improvement Points</th>\n",
       "      <th>MSPB-1 Measure Score</th>\n",
       "    </tr>\n",
       "  </thead>\n",
       "  <tbody>\n",
       "    <tr>\n",
       "      <th>760</th>\n",
       "      <td>130071</td>\n",
       "      <td>ST LUKE'S NAMPA MEDICAL CENTER</td>\n",
       "      <td>NAMPA</td>\n",
       "      <td>ID</td>\n",
       "      <td>0.987266</td>\n",
       "      <td>0.852083</td>\n",
       "      <td>Not Available</td>\n",
       "      <td>0.916854</td>\n",
       "      <td>5 out of 10</td>\n",
       "      <td>Not Available</td>\n",
       "      <td>5 out of 10</td>\n",
       "    </tr>\n",
       "    <tr>\n",
       "      <th>1469</th>\n",
       "      <td>290056</td>\n",
       "      <td>ORTHOPEDIC SPECIALTY HOSPITAL OF NEVADA</td>\n",
       "      <td>LAS VEGAS</td>\n",
       "      <td>NV</td>\n",
       "      <td>0.987266</td>\n",
       "      <td>0.852083</td>\n",
       "      <td>Not Available</td>\n",
       "      <td>1.031437</td>\n",
       "      <td>0 out of 10</td>\n",
       "      <td>Not Available</td>\n",
       "      <td>0 out of 10</td>\n",
       "    </tr>\n",
       "    <tr>\n",
       "      <th>2638</th>\n",
       "      <td>520210</td>\n",
       "      <td>MARSHFIELD MEDICAL CENTER - EAU CLAIRE</td>\n",
       "      <td>EAU CLAIRE</td>\n",
       "      <td>WI</td>\n",
       "      <td>0.987266</td>\n",
       "      <td>0.852083</td>\n",
       "      <td>Not Available</td>\n",
       "      <td>0.946332</td>\n",
       "      <td>3 out of 10</td>\n",
       "      <td>Not Available</td>\n",
       "      <td>3 out of 10</td>\n",
       "    </tr>\n",
       "  </tbody>\n",
       "</table>\n",
       "</div>"
      ],
      "text/plain": [
       "      Facility ID                            Facility Name        City State  \\\n",
       "760        130071           ST LUKE'S NAMPA MEDICAL CENTER       NAMPA    ID   \n",
       "1469       290056  ORTHOPEDIC SPECIALTY HOSPITAL OF NEVADA   LAS VEGAS    NV   \n",
       "2638       520210   MARSHFIELD MEDICAL CENTER - EAU CLAIRE  EAU CLAIRE    WI   \n",
       "\n",
       "      MSPB-1 Achievement Threshold  MSPB-1 Benchmark MSPB-1 Baseline Rate  \\\n",
       "760                       0.987266          0.852083        Not Available   \n",
       "1469                      0.987266          0.852083        Not Available   \n",
       "2638                      0.987266          0.852083        Not Available   \n",
       "\n",
       "     MSPB-1 Performance Rate MSPB-1 Achievement Points  \\\n",
       "760                 0.916854               5 out of 10   \n",
       "1469                1.031437               0 out of 10   \n",
       "2638                0.946332               3 out of 10   \n",
       "\n",
       "     MSPB-1 Improvement Points MSPB-1 Measure Score  \n",
       "760              Not Available          5 out of 10  \n",
       "1469             Not Available          0 out of 10  \n",
       "2638             Not Available          3 out of 10  "
      ]
     },
     "execution_count": 13,
     "metadata": {},
     "output_type": "execute_result"
    }
   ],
   "source": [
    "df.loc[df['MSPB-1 Baseline Rate'] == 'Not Available']"
   ]
  },
  {
   "cell_type": "code",
   "execution_count": 14,
   "metadata": {},
   "outputs": [
    {
     "data": {
      "text/html": [
       "<div>\n",
       "<style scoped>\n",
       "    .dataframe tbody tr th:only-of-type {\n",
       "        vertical-align: middle;\n",
       "    }\n",
       "\n",
       "    .dataframe tbody tr th {\n",
       "        vertical-align: top;\n",
       "    }\n",
       "\n",
       "    .dataframe thead th {\n",
       "        text-align: right;\n",
       "    }\n",
       "</style>\n",
       "<table border=\"1\" class=\"dataframe\">\n",
       "  <thead>\n",
       "    <tr style=\"text-align: right;\">\n",
       "      <th></th>\n",
       "      <th>Facility ID</th>\n",
       "      <th>Facility Name</th>\n",
       "      <th>City</th>\n",
       "      <th>State</th>\n",
       "      <th>MSPB-1 Achievement Threshold</th>\n",
       "      <th>MSPB-1 Benchmark</th>\n",
       "      <th>MSPB-1 Baseline Rate</th>\n",
       "      <th>MSPB-1 Performance Rate</th>\n",
       "      <th>MSPB-1 Achievement Points</th>\n",
       "      <th>MSPB-1 Improvement Points</th>\n",
       "      <th>MSPB-1 Measure Score</th>\n",
       "    </tr>\n",
       "  </thead>\n",
       "  <tbody>\n",
       "    <tr>\n",
       "      <th>1873</th>\n",
       "      <td>360185</td>\n",
       "      <td>SALEM REGIONAL MEDICAL CENTER</td>\n",
       "      <td>SALEM</td>\n",
       "      <td>OH</td>\n",
       "      <td>0.987266</td>\n",
       "      <td>0.852083</td>\n",
       "      <td>1.098620</td>\n",
       "      <td>Not Available</td>\n",
       "      <td>Not Available</td>\n",
       "      <td>Not Available</td>\n",
       "      <td>Not Available</td>\n",
       "    </tr>\n",
       "  </tbody>\n",
       "</table>\n",
       "</div>"
      ],
      "text/plain": [
       "      Facility ID                  Facility Name   City State  \\\n",
       "1873       360185  SALEM REGIONAL MEDICAL CENTER  SALEM    OH   \n",
       "\n",
       "      MSPB-1 Achievement Threshold  MSPB-1 Benchmark MSPB-1 Baseline Rate  \\\n",
       "1873                      0.987266          0.852083             1.098620   \n",
       "\n",
       "     MSPB-1 Performance Rate MSPB-1 Achievement Points  \\\n",
       "1873           Not Available             Not Available   \n",
       "\n",
       "     MSPB-1 Improvement Points MSPB-1 Measure Score  \n",
       "1873             Not Available        Not Available  "
      ]
     },
     "execution_count": 14,
     "metadata": {},
     "output_type": "execute_result"
    }
   ],
   "source": [
    "df.loc[df['MSPB-1 Performance Rate'] == 'Not Available']"
   ]
  },
  {
   "cell_type": "code",
   "execution_count": 15,
   "metadata": {},
   "outputs": [],
   "source": [
    "df['MSPB-1 Baseline Rate'] = df['MSPB-1 Baseline Rate'].replace({'Not Available':'0.0'})"
   ]
  },
  {
   "cell_type": "code",
   "execution_count": 16,
   "metadata": {},
   "outputs": [],
   "source": [
    "df['MSPB-1 Performance Rate'] = df['MSPB-1 Performance Rate'].replace({'Not Available':'0.0'})"
   ]
  },
  {
   "cell_type": "code",
   "execution_count": 17,
   "metadata": {},
   "outputs": [],
   "source": [
    "df['MSPB-1 Baseline Rate'] = df['MSPB-1 Baseline Rate'].astype('float64')"
   ]
  },
  {
   "cell_type": "code",
   "execution_count": 18,
   "metadata": {},
   "outputs": [],
   "source": [
    "df['MSPB-1 Performance Rate'] = df['MSPB-1 Performance Rate'].astype('float64')"
   ]
  },
  {
   "cell_type": "code",
   "execution_count": 19,
   "metadata": {},
   "outputs": [
    {
     "name": "stdout",
     "output_type": "stream",
     "text": [
      "['0 out of 10' '1 out of 10' '3 out of 10' '10 out of 10' '5 out of 10'\n",
      " '4 out of 10' '2 out of 10' '6 out of 10' '7 out of 10' '9 out of 10'\n",
      " '8 out of 10' 'Not Available']\n"
     ]
    }
   ],
   "source": [
    "print(df['MSPB-1 Achievement Points'].unique())\n",
    "df.loc[df['MSPB-1 Achievement Points'] == 'Not Available']\n",
    "df['MSPB-1 Achievement Points'] = df['MSPB-1 Achievement Points'].replace({'Not Available':'0'})"
   ]
  },
  {
   "cell_type": "code",
   "execution_count": 20,
   "metadata": {},
   "outputs": [],
   "source": [
    "df['MSPB-1 Achievement Points'][0][0]\n",
    "points = []\n",
    "for i in range(2676):\n",
    "    points.append(df['MSPB-1 Achievement Points'][i][0])\n",
    "\n",
    "df['MSPB-1 Achievement Points'] = points"
   ]
  },
  {
   "cell_type": "code",
   "execution_count": 21,
   "metadata": {},
   "outputs": [
    {
     "name": "stdout",
     "output_type": "stream",
     "text": [
      "['0 out of 9' '3 out of 9' '9 out of 9' '2 out of 9' '1 out of 9'\n",
      " '6 out of 9' '5 out of 9' '7 out of 9' '4 out of 9' 'Not Available'\n",
      " '8 out of 9']\n"
     ]
    }
   ],
   "source": [
    "print(df['MSPB-1 Improvement Points'].unique())\n",
    "df.loc[df['MSPB-1 Improvement Points'] == 'Not Available']\n",
    "df['MSPB-1 Improvement Points'] = df['MSPB-1 Improvement Points'].replace({'Not Available':'0'})"
   ]
  },
  {
   "cell_type": "code",
   "execution_count": 22,
   "metadata": {},
   "outputs": [],
   "source": [
    "df['MSPB-1 Improvement Points'][0][0]\n",
    "points = []\n",
    "for i in range(2676):\n",
    "    points.append(df['MSPB-1 Improvement Points'][i][0])\n",
    "\n",
    "df['MSPB-1 Improvement Points'] = points"
   ]
  },
  {
   "cell_type": "code",
   "execution_count": 23,
   "metadata": {},
   "outputs": [
    {
     "name": "stdout",
     "output_type": "stream",
     "text": [
      "['0 out of 10' '3 out of 10' '1 out of 10' '10 out of 10' '5 out of 10'\n",
      " '4 out of 10' '2 out of 10' '6 out of 10' '7 out of 10' '9 out of 10'\n",
      " '8 out of 10' 'Not Available']\n"
     ]
    }
   ],
   "source": [
    "print(df['MSPB-1 Measure Score'].unique())\n",
    "df.loc[df['MSPB-1 Measure Score'] == 'Not Available']\n",
    "df['MSPB-1 Measure Score'] = df['MSPB-1 Measure Score'].replace({'Not Available':'0'})"
   ]
  },
  {
   "cell_type": "code",
   "execution_count": 24,
   "metadata": {},
   "outputs": [],
   "source": [
    "df['MSPB-1 Measure Score'][0][0]\n",
    "points = []\n",
    "for i in range(2676):\n",
    "    points.append(df['MSPB-1 Measure Score'][i][0])\n",
    "\n",
    "df['MSPB-1 Measure Score'] = points"
   ]
  },
  {
   "cell_type": "code",
   "execution_count": 25,
   "metadata": {
    "scrolled": true
   },
   "outputs": [],
   "source": [
    "df['MSPB-1 Achievement Points'] = df['MSPB-1 Achievement Points'].astype('int64')"
   ]
  },
  {
   "cell_type": "code",
   "execution_count": 26,
   "metadata": {},
   "outputs": [],
   "source": [
    "df['MSPB-1 Measure Score'] = df['MSPB-1 Measure Score'].astype('int64')"
   ]
  },
  {
   "cell_type": "code",
   "execution_count": 27,
   "metadata": {},
   "outputs": [],
   "source": [
    "df['MSPB-1 Improvement Points'] = df['MSPB-1 Improvement Points'].astype('int64')"
   ]
  },
  {
   "cell_type": "markdown",
   "metadata": {},
   "source": [
    "#### Benchmark : 0.852083\n",
    "It is a reference point that allows you to compare its level of performance with other's level of performance\n",
    "#### Threshold : 0.987266\n",
    "It is the bottom-most part of a value that one crosses to enter\n"
   ]
  },
  {
   "cell_type": "markdown",
   "metadata": {},
   "source": [
    "# 1.2 Data Visualisation"
   ]
  },
  {
   "cell_type": "code",
   "execution_count": null,
   "metadata": {},
   "outputs": [],
   "source": [
    "df.head(5)\n",
    "df.shape"
   ]
  },
  {
   "cell_type": "code",
   "execution_count": null,
   "metadata": {},
   "outputs": [],
   "source": [
    "index = df.loc[df['MSPB-1 Baseline Rate'] >= 0.987266 ].index\n",
    "a = df.iloc[index]\n",
    "print(a.shape)\n",
    "a['MSPB-1 Baseline Rate'] = 'yes'\n",
    "index = df.loc[df['MSPB-1 Baseline Rate'] < 0.987266 ].index\n",
    "a1 = df.iloc[index]\n",
    "print(a1.shape)\n",
    "a1['MSPB-1 Baseline Rate'] = 'no'\n",
    "a = pd.concat([a,a1])\n",
    "a['MSPB-1 Baseline Rate'].value_counts()"
   ]
  },
  {
   "cell_type": "code",
   "execution_count": null,
   "metadata": {},
   "outputs": [],
   "source": [
    "def threshold_chart(column,data=df):\n",
    "    index = data.loc[data[column] >= 0.987266 ].index\n",
    "    a = data.iloc[index]\n",
    "    print(a.shape)\n",
    "    a[column] = 'yes'\n",
    "    index = data.loc[data[column] < 0.987266 ].index\n",
    "    a1 = data.iloc[index]\n",
    "    print(a1.shape)\n",
    "    a1[column] = 'no'\n",
    "    a = pd.concat([a,a1])\n",
    "    plt.figure(figsize=(8,8))\n",
    "    c = sns.countplot(x=a[column].value_counts(),hue=a[column].value_counts(),data=data)\n",
    "    c.set_xticklabels(['No','Yes'])\n",
    "    plt.title(\"Is the {} pass threshold?\".format(column))\n",
    "    \n",
    "    labels = ['Yes','No']\n",
    "    sizes = [a[column].value_counts()[0],a[column].value_counts()[1]]\n",
    "    fig1, ax1 = plt.subplots()\n",
    "    ax1.pie(sizes, labels=labels, autopct='%1.1f%%', shadow=True)\n",
    "    ax1.axis('equal')\n",
    "    plt.show()\n",
    "    \n"
   ]
  },
  {
   "cell_type": "code",
   "execution_count": null,
   "metadata": {},
   "outputs": [],
   "source": [
    "def benchmark_chart(column,data=df):\n",
    "    index = data.loc[data[column] >= 0.852083 ].index\n",
    "    a = data.iloc[index]\n",
    "    print(a.shape)\n",
    "    a[column] = 'yes'\n",
    "    index = data.loc[data[column] < 0.852083 ].index\n",
    "    a1 = data.iloc[index]\n",
    "    print(a1.shape)\n",
    "    a1[column] = 'no'\n",
    "    a = pd.concat([a,a1])\n",
    "    plt.figure(figsize=(8,8))\n",
    "    c = sns.countplot(x=a[column].value_counts(),hue=a[column].value_counts(),data=data)\n",
    "    c.set_xticklabels(['No','Yes'])\n",
    "    plt.title(\"Is the {} pass benchmark?\".format(column))\n",
    "    \n",
    "    labels = ['Yes','No']\n",
    "    sizes = [a[column].value_counts()[0],a[column].value_counts()[1]]\n",
    "    fig1, ax1 = plt.subplots()\n",
    "    ax1.pie(sizes, labels=labels, autopct='%1.1f%%', shadow=True)\n",
    "    ax1.axis('equal')\n",
    "    plt.show()"
   ]
  },
  {
   "cell_type": "code",
   "execution_count": null,
   "metadata": {},
   "outputs": [],
   "source": [
    "threshold_chart('MSPB-1 Baseline Rate')"
   ]
  },
  {
   "cell_type": "markdown",
   "metadata": {},
   "source": [
    "50.6% of the facilities have baseline rate greater than or equal to threshold"
   ]
  },
  {
   "cell_type": "code",
   "execution_count": null,
   "metadata": {},
   "outputs": [],
   "source": [
    "threshold_chart('MSPB-1 Performance Rate')"
   ]
  },
  {
   "cell_type": "markdown",
   "metadata": {},
   "source": [
    "51.1% of facilties gave performance rate greater than or equal to threshold"
   ]
  },
  {
   "cell_type": "code",
   "execution_count": null,
   "metadata": {},
   "outputs": [],
   "source": [
    "benchmark_chart('MSPB-1 Baseline Rate')"
   ]
  },
  {
   "cell_type": "markdown",
   "metadata": {},
   "source": [
    "96.6% of facilities have baseline rate more than the average rate"
   ]
  },
  {
   "cell_type": "code",
   "execution_count": null,
   "metadata": {},
   "outputs": [],
   "source": [
    "benchmark_chart('MSPB-1 Performance Rate')"
   ]
  },
  {
   "cell_type": "markdown",
   "metadata": {},
   "source": [
    "97.5% of facilities have performance rate more than average rate."
   ]
  },
  {
   "cell_type": "code",
   "execution_count": null,
   "metadata": {},
   "outputs": [],
   "source": [
    "df['MSPB-1 Achievement Points'].value_counts()"
   ]
  },
  {
   "cell_type": "code",
   "execution_count": null,
   "metadata": {},
   "outputs": [],
   "source": [
    "def plot(column,data=df):\n",
    "    fig = plt.figure()\n",
    "    plt.figure(figsize=(16,8))\n",
    "    plt.subplot(2, 2, 1)\n",
    "    sns.lineplot(x=data[column].value_counts().index, y=data[column].value_counts())\n",
    "    plt.xlim(0,10)\n",
    "    plt.title(column)\n",
    "    plt.xlabel(\"Points\")\n",
    "    plt.ylabel(\"Counts\")\n",
    "    plt.subplot(2, 2, 2)\n",
    "    sns.barplot(x=data[column].value_counts().index, y=data[column].value_counts())\n",
    "    plt.xlim(0,10)\n",
    "    plt.title(column)\n",
    "    plt.xlabel(\"Points\")\n",
    "    plt.ylabel(\"Counts\")"
   ]
  },
  {
   "cell_type": "code",
   "execution_count": null,
   "metadata": {},
   "outputs": [],
   "source": [
    "plot(\"MSPB-1 Achievement Points\")"
   ]
  },
  {
   "cell_type": "code",
   "execution_count": null,
   "metadata": {},
   "outputs": [],
   "source": [
    "plot(\"MSPB-1 Improvement Points\")"
   ]
  },
  {
   "cell_type": "code",
   "execution_count": null,
   "metadata": {},
   "outputs": [],
   "source": [
    "plot(\"MSPB-1 Measure Score\")"
   ]
  },
  {
   "cell_type": "code",
   "execution_count": null,
   "metadata": {},
   "outputs": [],
   "source": [
    "sns.heatmap(df.corr())"
   ]
  },
  {
   "cell_type": "code",
   "execution_count": null,
   "metadata": {},
   "outputs": [],
   "source": [
    "sns.boxplot(x=df['MSPB-1 Baseline Rate'])"
   ]
  },
  {
   "cell_type": "code",
   "execution_count": null,
   "metadata": {},
   "outputs": [],
   "source": [
    "sns.boxplot(x=df['MSPB-1 Performance Rate'])"
   ]
  },
  {
   "cell_type": "code",
   "execution_count": 46,
   "metadata": {
    "scrolled": true
   },
   "outputs": [
    {
     "data": {
      "text/plain": [
       "<AxesSubplot:xlabel='State', ylabel='MSPB-1 Baseline Rate'>"
      ]
     },
     "execution_count": 46,
     "metadata": {},
     "output_type": "execute_result"
    },
    {
     "data": {
      "image/png": "[encoded data removed]",
      "text/plain": [
       "<Figure size 1152x576 with 1 Axes>"
      ]
     },
     "metadata": {
      "needs_background": "light"
     },
     "output_type": "display_data"
    }
   ],
   "source": [
    "plt.figure(figsize=(16,8))\n",
    "x = df.groupby('State')['MSPB-1 Baseline Rate'].mean()\n",
    "sns.scatterplot(x=x.index,y=x)"
   ]
  },
  {
   "cell_type": "code",
   "execution_count": 44,
   "metadata": {
    "scrolled": true
   },
   "outputs": [
    {
     "data": {
      "text/plain": [
       "<AxesSubplot:xlabel='State', ylabel='MSPB-1 Performance Rate'>"
      ]
     },
     "execution_count": 44,
     "metadata": {},
     "output_type": "execute_result"
    },
    {
     "data": {
      "image/png": "[encoded data removed]",
      "text/plain": [
       "<Figure size 1152x576 with 1 Axes>"
      ]
     },
     "metadata": {
      "needs_background": "light"
     },
     "output_type": "display_data"
    }
   ],
   "source": [
    "plt.figure(figsize=(16,8))\n",
    "x = df.groupby('State')['MSPB-1 Performance Rate'].mean()\n",
    "sns.scatterplot(x=x.index,y=x,color='Red')"
   ]
  },
  {
   "cell_type": "markdown",
   "metadata": {},
   "source": [
    "# 2 Home_Hospital_Data"
   ]
  },
  {
   "cell_type": "code",
   "execution_count": 47,
   "metadata": {},
   "outputs": [
    {
     "data": {
      "text/plain": [
       "(11176, 70)"
      ]
     },
     "execution_count": 47,
     "metadata": {},
     "output_type": "execute_result"
    }
   ],
   "source": [
    "home_hospital_data.head(5)\n",
    "df = home_hospital_data\n",
    "df.shape\n"
   ]
  },
  {
   "cell_type": "code",
   "execution_count": null,
   "metadata": {},
   "outputs": [],
   "source": [
    "def missing_values(data, thresh = 20, color = 'black', edgecolor = 'black', height = 16, width = 20):\n",
    "    \n",
    "    plt.figure(figsize = (width, height))\n",
    "    percentage = (data.isnull().mean()) * 100\n",
    "    percentage.sort_values(ascending = False).plot.bar(color = color, edgecolor = edgecolor)\n",
    "    plt.axhline(y = thresh, color = 'r', linestyle = '-')\n",
    "    \n",
    "    plt.title('Missing values percentage per column', fontsize = 20, weight = 'bold' )\n",
    "    \n",
    "    plt.text(len(data.isnull().sum()/len(data))/1.7, thresh + 12.5, f'Columns with more than {thresh}% missing values', fontsize = 12, color = 'crimson',\n",
    "         ha = 'left' ,va = 'top')\n",
    "    plt.text(len(data.isnull().sum()/len(data))/1.7, thresh - 5, f'Columns with less than {thresh}% missing values', fontsize=12, color='green',\n",
    "         ha = 'left' ,va = 'top')\n",
    "    plt.xlabel('Columns', size = 15, weight = 'bold')\n",
    "    plt.ylabel('Missing values percentage')\n",
    "    plt.yticks(weight = 'bold')\n",
    "    \n",
    "    return plt.show()\n",
    "\n",
    "missing_values(df, thresh = 20, color = sns.color_palette('Reds',15))\n",
    "\n"
   ]
  },
  {
   "cell_type": "code",
   "execution_count": 48,
   "metadata": {},
   "outputs": [
    {
     "data": {
      "text/plain": [
       "Index(['State', 'CMS Certification Number (CCN)', 'Provider Name', 'Address',\n",
       "       'City', 'ZIP', 'Phone', 'Type of Ownership',\n",
       "       'Offers Nursing Care Services', 'Offers Physical Therapy Services',\n",
       "       'Offers Occupational Therapy Services',\n",
       "       'Offers Speech Pathology Services', 'Offers Medical Social Services',\n",
       "       'Offers Home Health Aide Services', 'Date Certified',\n",
       "       'Quality of patient care star rating',\n",
       "       'Footnote for quality of patient care star rating',\n",
       "       'How often the home health team began their patients' care in a timely manner',\n",
       "       'Footnote for how often the home health team began their patients' care in a timely manner',\n",
       "       'How often the home health team taught patients (or their family caregivers) about their drugs',\n",
       "       'Footnote for how often the home health team taught patients (or their family caregivers) about their drugs',\n",
       "       'How often the home health team checked patients' risk of falling',\n",
       "       'Footnote for how often the home health team checked patients' risk of falling',\n",
       "       'How often the home health team checked patients for depression',\n",
       "       'Footnote for how often the home health team checked patients for depression',\n",
       "       'How often the home health team determined whether patients received a flu shot for the current flu season',\n",
       "       'Footnote for how often the home health team determined whether patients received a flu shot for the current flu season',\n",
       "       'How often the home health team made sure that their patients received a pneumococcal vaccine (pneumonia shot)',\n",
       "       'Footnote for how often the home health team made sure that their patients received a pneumococcal vaccine (pneumonia shot)',\n",
       "       'With diabetes, how often the home health team got doctor's orders, gave foot care, and taught patients about foot care',\n",
       "       'Footnote for how often the home health team got doctor's orders, gave foot care, and taught patients about foot care',\n",
       "       'How often patients got better at walking or moving around',\n",
       "       'Footnote for how often patients got better at walking or moving around',\n",
       "       'How often patients got better at getting in and out of bed',\n",
       "       'Footnote for how often patients got better at getting in and out of bed',\n",
       "       'How often patients got better at bathing',\n",
       "       'Footnote for how often patients got better at bathing',\n",
       "       'How often patients' breathing improved',\n",
       "       'Footnote for how often patients' breathing improved',\n",
       "       'How often patients' wounds improved or healed after an operation',\n",
       "       'Footnote for how often patients' wounds improved or healed after an operation',\n",
       "       'How often patients got better at taking their drugs correctly by mouth',\n",
       "       'Footnote for how often patients got better at taking their drugs correctly by mouth',\n",
       "       'How often home health patients had to be admitted to the hospital',\n",
       "       'Footnote for how often home health patients had to be admitted to the hospital',\n",
       "       'How often patients receiving home health care needed urgent, unplanned care in the ER without being admitted',\n",
       "       'Footnote for how often patients receiving home health care needed urgent, unplanned care in the ER without being admitted',\n",
       "       'Changes in skin integrity post-acute care: pressure ulcer/injury',\n",
       "       'Footnote Changes in skin integrity post-acute care: pressure ulcer/injury',\n",
       "       'How often physician-recommended actions to address medication issues were completely timely',\n",
       "       'Footnote for how often physician-recommended actions to address medication issues were completely timely',\n",
       "       'DTC Numerator', 'DTC Denominator', 'DTC Observed Rate',\n",
       "       'DTC Risk-Standardized Rate',\n",
       "       'DTC Risk-Standardized Rate (Lower Limit)',\n",
       "       'DTC Risk-Standardized Rate (Upper Limit)',\n",
       "       'DTC Performance Categorization',\n",
       "       'Footnote for DTC Risk-Standardized Rate', 'PPR Numerator',\n",
       "       'PPR Denominator', 'PPR Observed Rate', 'PPR Risk-Standardized Rate',\n",
       "       'PPR Risk-Standardized Rate (Lower Limit)',\n",
       "       'PPR Risk-Standardized Rate (Upper Limit)',\n",
       "       'PPR Performance Categorization',\n",
       "       'Footnote for PPR Risk-Standardized Rate',\n",
       "       'How much Medicare spends on an episode of care at this agency, compared to Medicare spending across all agencies nationally',\n",
       "       'Footnote for how much Medicare spends on an episode of care at this agency, compared to Medicare spending across all agencies nationally',\n",
       "       'No. of episodes to calc how much Medicare spends per episode of care at agency, compared to spending at all agencies (national)'],\n",
       "      dtype='object')"
      ]
     },
     "execution_count": 48,
     "metadata": {},
     "output_type": "execute_result"
    }
   ],
   "source": [
    "df.columns"
   ]
  },
  {
   "cell_type": "code",
   "execution_count": null,
   "metadata": {},
   "outputs": [],
   "source": [
    "df.describe()"
   ]
  },
  {
   "cell_type": "code",
   "execution_count": null,
   "metadata": {},
   "outputs": [],
   "source": []
  },
  {
   "cell_type": "markdown",
   "metadata": {},
   "source": [
    "# 2.1 Data Cleaning"
   ]
  },
  {
   "cell_type": "markdown",
   "metadata": {},
   "source": [
    "we are going to remove the Address,City,ZIP,Phone,Type of Ownership,state"
   ]
  },
  {
   "cell_type": "code",
   "execution_count": 49,
   "metadata": {},
   "outputs": [],
   "source": [
    "df = df.drop(['Address',\n",
    "       'City', 'ZIP', 'Phone', 'Type of Ownership'],axis=1)\n"
   ]
  },
  {
   "cell_type": "markdown",
   "metadata": {},
   "source": [
    "we are going to remove columns which has more than 70% missing values\n"
   ]
  },
  {
   "cell_type": "code",
   "execution_count": 50,
   "metadata": {},
   "outputs": [],
   "source": [
    "df = df.drop(['Footnote for how much Medicare spends on an episode of care at this agency, compared to Medicare spending across all agencies nationally',\n",
    "\"Footnote for how often the home health team began their patients' care in a timely manner\",'Footnote for how often physician-recommended actions to address medication issues were completely timely',\n",
    "'Footnote for how often the home health team taught patients (or their family caregivers) about their drugs',\n",
    "'Footnote for how often the home health team checked patients for depression',\n",
    "'Footnote for how often the home health team made sure that their patients received a pneumococcal vaccine (pneumonia shot)',\n",
    "'Footnote for DTC Risk-Standardized Rate',\n",
    "\"Footnote for how often the home health team checked patients' risk of falling\",\n",
    "'Footnote for how often the home health team determined whether patients received a flu shot for the current flu season',\n",
    "'Footnote Changes in skin integrity post-acute care: pressure ulcer/injury',\n",
    "'Footnote for how often patients got better at bathing',\n",
    "'Footnote for how often patients got better at walking or moving around',\n",
    "'Footnote for how often patients got better at getting in and out of bed',\n",
    "'Footnote for quality of patient care star rating',\n",
    "'Footnote for how often patients got better at taking their drugs correctly by mouth',\n",
    "\"Footnote for how often patients' breathing improved\",\n",
    "\"Footnote for how often the home health team got doctor's orders, gave foot care, and taught patients about foot care\",\n",
    "'Footnote for how often home health patients had to be admitted to the hospital',\n",
    "'Footnote for how often patients receiving home health care needed urgent, unplanned care in the ER without being admitted','Footnote for PPR Risk-Standardized Rate',\"Footnote for how often patients' wounds improved or healed after an operation\"],axis=1)"
   ]
  },
  {
   "cell_type": "code",
   "execution_count": 51,
   "metadata": {},
   "outputs": [
    {
     "data": {
      "text/plain": [
       "(11176, 44)"
      ]
     },
     "execution_count": 51,
     "metadata": {},
     "output_type": "execute_result"
    }
   ],
   "source": [
    "df.shape"
   ]
  },
  {
   "cell_type": "code",
   "execution_count": 52,
   "metadata": {},
   "outputs": [
    {
     "data": {
      "text/plain": [
       "Index(['State', 'CMS Certification Number (CCN)', 'Provider Name',\n",
       "       'Offers Nursing Care Services', 'Offers Physical Therapy Services',\n",
       "       'Offers Occupational Therapy Services',\n",
       "       'Offers Speech Pathology Services', 'Offers Medical Social Services',\n",
       "       'Offers Home Health Aide Services', 'Date Certified',\n",
       "       'Quality of patient care star rating',\n",
       "       'How often the home health team began their patients' care in a timely manner',\n",
       "       'How often the home health team taught patients (or their family caregivers) about their drugs',\n",
       "       'How often the home health team checked patients' risk of falling',\n",
       "       'How often the home health team checked patients for depression',\n",
       "       'How often the home health team determined whether patients received a flu shot for the current flu season',\n",
       "       'How often the home health team made sure that their patients received a pneumococcal vaccine (pneumonia shot)',\n",
       "       'With diabetes, how often the home health team got doctor's orders, gave foot care, and taught patients about foot care',\n",
       "       'How often patients got better at walking or moving around',\n",
       "       'How often patients got better at getting in and out of bed',\n",
       "       'How often patients got better at bathing',\n",
       "       'How often patients' breathing improved',\n",
       "       'How often patients' wounds improved or healed after an operation',\n",
       "       'How often patients got better at taking their drugs correctly by mouth',\n",
       "       'How often home health patients had to be admitted to the hospital',\n",
       "       'How often patients receiving home health care needed urgent, unplanned care in the ER without being admitted',\n",
       "       'Changes in skin integrity post-acute care: pressure ulcer/injury',\n",
       "       'How often physician-recommended actions to address medication issues were completely timely',\n",
       "       'DTC Numerator', 'DTC Denominator', 'DTC Observed Rate',\n",
       "       'DTC Risk-Standardized Rate',\n",
       "       'DTC Risk-Standardized Rate (Lower Limit)',\n",
       "       'DTC Risk-Standardized Rate (Upper Limit)',\n",
       "       'DTC Performance Categorization', 'PPR Numerator', 'PPR Denominator',\n",
       "       'PPR Observed Rate', 'PPR Risk-Standardized Rate',\n",
       "       'PPR Risk-Standardized Rate (Lower Limit)',\n",
       "       'PPR Risk-Standardized Rate (Upper Limit)',\n",
       "       'PPR Performance Categorization',\n",
       "       'How much Medicare spends on an episode of care at this agency, compared to Medicare spending across all agencies nationally',\n",
       "       'No. of episodes to calc how much Medicare spends per episode of care at agency, compared to spending at all agencies (national)'],\n",
       "      dtype='object')"
      ]
     },
     "execution_count": 52,
     "metadata": {},
     "output_type": "execute_result"
    }
   ],
   "source": [
    "df.columns"
   ]
  },
  {
   "cell_type": "code",
   "execution_count": null,
   "metadata": {},
   "outputs": [],
   "source": [
    "df.shape"
   ]
  },
  {
   "cell_type": "code",
   "execution_count": null,
   "metadata": {},
   "outputs": [],
   "source": [
    "numerical_column = [i for i in df.columns if (df[str(i)].dtype == 'int64' or df[str(i)].dtype == 'float64') ]"
   ]
  },
  {
   "cell_type": "code",
   "execution_count": null,
   "metadata": {},
   "outputs": [],
   "source": [
    "for i in numerical_column:\n",
    "    print(df[str(i)].isnull().sum())"
   ]
  },
  {
   "cell_type": "code",
   "execution_count": null,
   "metadata": {},
   "outputs": [],
   "source": [
    "for i in numerical_column:\n",
    "    df[str(i)] = df[str(i)].fillna(df[str(i)].mean())"
   ]
  },
  {
   "cell_type": "code",
   "execution_count": null,
   "metadata": {},
   "outputs": [],
   "source": [
    "for i in numerical_column:\n",
    "    print(df[str(i)].isnull().sum())"
   ]
  },
  {
   "cell_type": "markdown",
   "metadata": {},
   "source": [
    "# 2.2 Data Visualisation"
   ]
  },
  {
   "cell_type": "code",
   "execution_count": null,
   "metadata": {},
   "outputs": [],
   "source": [
    "object_column = [i for i in df.columns if df[str(i)].dtype == 'object']"
   ]
  },
  {
   "cell_type": "code",
   "execution_count": null,
   "metadata": {},
   "outputs": [],
   "source": [
    "object_column.remove('Provider Name')\n",
    "object_column.remove('Date Certified')\n",
    "object_column.remove('DTC Performance Categorization')\n",
    "object_column.remove('PPR Performance Categorization')"
   ]
  },
  {
   "cell_type": "code",
   "execution_count": null,
   "metadata": {},
   "outputs": [],
   "source": [
    "for i in object_column:\n",
    "    print('----------------------------')\n",
    "    print(df[str(i)].value_counts())"
   ]
  },
  {
   "cell_type": "code",
   "execution_count": null,
   "metadata": {},
   "outputs": [],
   "source": [
    "def barplot(column,data=df):\n",
    "    sns.barplot(x=data[column].value_counts().index, y=data[column].value_counts())\n",
    "    plt.ylabel('')\n",
    "    plt.title(column)\n",
    "    "
   ]
  },
  {
   "cell_type": "code",
   "execution_count": null,
   "metadata": {},
   "outputs": [],
   "source": [
    "barplot('Offers Physical Therapy Services')"
   ]
  },
  {
   "cell_type": "code",
   "execution_count": null,
   "metadata": {},
   "outputs": [],
   "source": [
    "barplot('Offers Occupational Therapy Services')"
   ]
  },
  {
   "cell_type": "code",
   "execution_count": null,
   "metadata": {},
   "outputs": [],
   "source": [
    "barplot('Offers Speech Pathology Services')"
   ]
  },
  {
   "cell_type": "code",
   "execution_count": null,
   "metadata": {},
   "outputs": [],
   "source": [
    "barplot('Offers Medical Social Services')"
   ]
  },
  {
   "cell_type": "code",
   "execution_count": null,
   "metadata": {},
   "outputs": [],
   "source": [
    "barplot('Offers Home Health Aide Services')"
   ]
  },
  {
   "cell_type": "code",
   "execution_count": null,
   "metadata": {},
   "outputs": [],
   "source": []
  },
  {
   "cell_type": "code",
   "execution_count": null,
   "metadata": {},
   "outputs": [],
   "source": [
    "def piechart(column,data=df):\n",
    "    labels = data[column].value_counts().index\n",
    "    sizes = data[column].value_counts().values\n",
    "    fig1, ax1 = plt.subplots()\n",
    "    ax1.pie(sizes, labels=labels, autopct='%1.1f%%', shadow=True,explode=[0.05]*4)\n",
    "    ax1.axis('equal')\n",
    "    plt.show()"
   ]
  },
  {
   "cell_type": "code",
   "execution_count": null,
   "metadata": {},
   "outputs": [],
   "source": [
    "piechart('PPR Performance Categorization')"
   ]
  },
  {
   "cell_type": "code",
   "execution_count": null,
   "metadata": {},
   "outputs": [],
   "source": [
    "piechart('DTC Performance Categorization')"
   ]
  },
  {
   "cell_type": "code",
   "execution_count": null,
   "metadata": {},
   "outputs": [],
   "source": [
    "df.head(5)"
   ]
  },
  {
   "cell_type": "code",
   "execution_count": null,
   "metadata": {},
   "outputs": [],
   "source": [
    "df.shape"
   ]
  },
  {
   "cell_type": "markdown",
   "metadata": {},
   "source": [
    "So, Now we are going to take top 10 Providers name and visualise some questions!!"
   ]
  },
  {
   "cell_type": "code",
   "execution_count": null,
   "metadata": {},
   "outputs": [],
   "source": [
    "def top_10(column,data=df):\n",
    "    labels = data.groupby('Provider Name')[column].mean().sort_values(ascending = False).head(10).index\n",
    "    sizes = data.groupby('Provider Name')[column].mean().sort_values(ascending = False).head(10).values\n",
    "    fig1, ax1 = plt.subplots()\n",
    "    ax1.pie(sizes, labels=labels,autopct='%1.1f%%', shadow=True)\n",
    "    #ax1.axis('equal')\n",
    "    plt.title(column)\n",
    "    plt.show()"
   ]
  },
  {
   "cell_type": "code",
   "execution_count": null,
   "metadata": {},
   "outputs": [],
   "source": [
    "top_10(\"How often the home health team began their patients' care in a timely manner\")"
   ]
  },
  {
   "cell_type": "code",
   "execution_count": null,
   "metadata": {},
   "outputs": [],
   "source": [
    "top_10('How often the home health team taught patients (or their family caregivers) about their drugs')"
   ]
  },
  {
   "cell_type": "code",
   "execution_count": null,
   "metadata": {},
   "outputs": [],
   "source": [
    "top_10(\"How often the home health team checked patients' risk of falling\")"
   ]
  },
  {
   "cell_type": "code",
   "execution_count": null,
   "metadata": {},
   "outputs": [],
   "source": [
    "top_10('How often the home health team checked patients for depression')"
   ]
  },
  {
   "cell_type": "code",
   "execution_count": null,
   "metadata": {},
   "outputs": [],
   "source": [
    "top_10('How often the home health team determined whether patients received a flu shot for the current flu season')"
   ]
  },
  {
   "cell_type": "code",
   "execution_count": null,
   "metadata": {},
   "outputs": [],
   "source": [
    "top_10('How often the home health team made sure that their patients received a pneumococcal vaccine (pneumonia shot)')"
   ]
  },
  {
   "cell_type": "code",
   "execution_count": null,
   "metadata": {},
   "outputs": [],
   "source": [
    "top_10('How often patients got better at walking or moving around')"
   ]
  },
  {
   "cell_type": "code",
   "execution_count": null,
   "metadata": {},
   "outputs": [],
   "source": [
    "top_10('How often patients got better at getting in and out of bed')"
   ]
  },
  {
   "cell_type": "code",
   "execution_count": null,
   "metadata": {},
   "outputs": [],
   "source": [
    "top_10('How often patients got better at bathing')"
   ]
  },
  {
   "cell_type": "code",
   "execution_count": null,
   "metadata": {},
   "outputs": [],
   "source": [
    "top_10(\"How often patients' breathing improved\")"
   ]
  },
  {
   "cell_type": "code",
   "execution_count": null,
   "metadata": {},
   "outputs": [],
   "source": [
    "top_10(\"How often patients' wounds improved or healed after an operation\")"
   ]
  },
  {
   "cell_type": "code",
   "execution_count": null,
   "metadata": {},
   "outputs": [],
   "source": [
    "top_10('How often patients got better at taking their drugs correctly by mouth')"
   ]
  },
  {
   "cell_type": "code",
   "execution_count": null,
   "metadata": {},
   "outputs": [],
   "source": [
    "top_10('How often home health patients had to be admitted to the hospital')"
   ]
  },
  {
   "cell_type": "code",
   "execution_count": null,
   "metadata": {},
   "outputs": [],
   "source": [
    "top_10('How often patients receiving home health care needed urgent, unplanned care in the ER without being admitted')"
   ]
  },
  {
   "cell_type": "code",
   "execution_count": null,
   "metadata": {},
   "outputs": [],
   "source": [
    "top_10('How often physician-recommended actions to address medication issues were completely timely')"
   ]
  },
  {
   "cell_type": "code",
   "execution_count": null,
   "metadata": {},
   "outputs": [],
   "source": [
    "top_10('How much Medicare spends on an episode of care at this agency, compared to Medicare spending across all agencies nationally')"
   ]
  },
  {
   "cell_type": "code",
   "execution_count": null,
   "metadata": {},
   "outputs": [],
   "source": [
    "top_10(\"With diabetes, how often the home health team got doctor's orders, gave foot care, and taught patients about foot care\")"
   ]
  },
  {
   "cell_type": "code",
   "execution_count": null,
   "metadata": {
    "scrolled": true
   },
   "outputs": [],
   "source": [
    "df.groupby('Provider Name')['Changes in skin integrity post-acute care: pressure ulcer/injury'].mean().sort_values().head(10)"
   ]
  },
  {
   "cell_type": "code",
   "execution_count": null,
   "metadata": {},
   "outputs": [],
   "source": [
    "top_10('No. of episodes to calc how much Medicare spends per episode of care at agency, compared to spending at all agencies (national)')"
   ]
  },
  {
   "cell_type": "code",
   "execution_count": null,
   "metadata": {},
   "outputs": [],
   "source": [
    "sns.lineplot(x=df['DTC Numerator'], y=df['DTC Denominator'])"
   ]
  },
  {
   "cell_type": "code",
   "execution_count": null,
   "metadata": {},
   "outputs": [],
   "source": [
    "sns.lineplot(x=df['PPR Numerator'], y=df['PPR Denominator'])"
   ]
  },
  {
   "cell_type": "code",
   "execution_count": null,
   "metadata": {},
   "outputs": [],
   "source": [
    "sns.lineplot(x=df['DTC Risk-Standardized Rate (Lower Limit)'], y=df['DTC Risk-Standardized Rate (Upper Limit)'])"
   ]
  },
  {
   "cell_type": "code",
   "execution_count": null,
   "metadata": {},
   "outputs": [],
   "source": [
    "sns.lineplot(x=df['PPR Risk-Standardized Rate (Lower Limit)'], y=df['PPR Risk-Standardized Rate (Upper Limit)'])"
   ]
  },
  {
   "cell_type": "code",
   "execution_count": null,
   "metadata": {},
   "outputs": [],
   "source": [
    "sns.lineplot(y=df['DTC Risk-Standardized Rate'], x=df['PPR Risk-Standardized Rate'])"
   ]
  },
  {
   "cell_type": "code",
   "execution_count": null,
   "metadata": {},
   "outputs": [],
   "source": [
    "sns.lineplot(y=df['DTC Observed Rate'], x=df['PPR Observed Rate'])"
   ]
  },
  {
   "cell_type": "markdown",
   "metadata": {},
   "source": []
  },
  {
   "cell_type": "code",
   "execution_count": null,
   "metadata": {},
   "outputs": [],
   "source": [
    "df['Quality of patient care star rating']"
   ]
  },
  {
   "cell_type": "code",
   "execution_count": null,
   "metadata": {},
   "outputs": [],
   "source": [
    "sns.histplot(x=df['Quality of patient care star rating'])"
   ]
  },
  {
   "cell_type": "code",
   "execution_count": null,
   "metadata": {},
   "outputs": [],
   "source": [
    "a = df.loc[df['Quality of patient care star rating']>=4.5][['Provider Name','Quality of patient care star rating']].sort_values(ascending=False,by='Quality of patient care star rating').head(15)\n",
    "a"
   ]
  },
  {
   "cell_type": "markdown",
   "metadata": {},
   "source": [
    "###### I visualised top 15 Providers with '5.0' star rating!!"
   ]
  },
  {
   "cell_type": "code",
   "execution_count": null,
   "metadata": {},
   "outputs": [],
   "source": [
    "labels = a.iloc[:,0]\n",
    "sizes = a.iloc[:,1]\n",
    "fig1, ax1 = plt.subplots()\n",
    "ax1.pie(sizes, labels=labels, shadow=True)\n",
    "#ax1.axis('equal')\n",
    "plt.title('Quality of patient care star rating')\n",
    "plt.show()"
   ]
  },
  {
   "cell_type": "code",
   "execution_count": 54,
   "metadata": {},
   "outputs": [
    {
     "data": {
      "text/plain": [
       "State\n",
       "AK    2.192308\n",
       "AL    3.914530\n",
       "AR    3.611702\n",
       "AZ    3.524194\n",
       "CA    3.279205\n",
       "CO    3.308696\n",
       "CT    3.020000\n",
       "DC    3.000000\n",
       "DE    3.541667\n",
       "FL    3.707349\n",
       "GA    3.520202\n",
       "GU    3.125000\n",
       "HI    3.321429\n",
       "IA    3.000000\n",
       "ID    3.521277\n",
       "IL    3.060784\n",
       "IN    3.185535\n",
       "KS    3.186170\n",
       "KY    3.677778\n",
       "LA    3.713018\n",
       "MA    2.896667\n",
       "MD    3.784314\n",
       "ME    3.475000\n",
       "MI    3.250000\n",
       "MN    2.477876\n",
       "MO    3.265152\n",
       "MP    2.250000\n",
       "MS    3.933333\n",
       "MT    2.630435\n",
       "NC    3.568323\n",
       "ND    3.366667\n",
       "NE    3.215686\n",
       "NH    3.130435\n",
       "NJ    3.476190\n",
       "NM    3.030303\n",
       "NV    2.922131\n",
       "NY    3.200000\n",
       "OH    3.049844\n",
       "OK    3.246341\n",
       "OR    3.063830\n",
       "PA    3.242972\n",
       "PR    3.771429\n",
       "RI    3.500000\n",
       "SC    3.637681\n",
       "SD    3.250000\n",
       "TN    3.826087\n",
       "TX    2.823252\n",
       "UT    3.575949\n",
       "VA    3.325243\n",
       "VI    2.750000\n",
       "VT    3.150000\n",
       "WA    3.441667\n",
       "WI    3.086420\n",
       "WV    3.903846\n",
       "WY    2.642857\n",
       "Name: Quality of patient care star rating, dtype: float64"
      ]
     },
     "execution_count": 54,
     "metadata": {},
     "output_type": "execute_result"
    }
   ],
   "source": [
    "x = df.groupby('State')['Quality of patient care star rating'].mean()\n",
    "x"
   ]
  },
  {
   "cell_type": "code",
   "execution_count": 57,
   "metadata": {},
   "outputs": [
    {
     "data": {
      "text/plain": [
       "<AxesSubplot:xlabel='State', ylabel='Quality of patient care star rating'>"
      ]
     },
     "execution_count": 57,
     "metadata": {},
     "output_type": "execute_result"
    },
    {
     "data": {
      "image/png": "[encoded data removed]",
      "text/plain": [
       "<Figure size 1440x576 with 1 Axes>"
      ]
     },
     "metadata": {
      "needs_background": "light"
     },
     "output_type": "display_data"
    }
   ],
   "source": [
    "plt.figure(figsize=(20,8))\n",
    "x = df.groupby('State')['Quality of patient care star rating'].mean()\n",
    "sns.lineplot(x=x.index,y=x,color='Green')"
   ]
  },
  {
   "cell_type": "code",
   "execution_count": 60,
   "metadata": {},
   "outputs": [
    {
     "data": {
      "text/plain": [
       "<AxesSubplot:>"
      ]
     },
     "execution_count": 60,
     "metadata": {},
     "output_type": "execute_result"
    },
    {
     "data": {
      "image/png": "[encoded data removed]",
      "text/plain": [
       "<Figure size 1440x1440 with 2 Axes>"
      ]
     },
     "metadata": {
      "needs_background": "light"
     },
     "output_type": "display_data"
    }
   ],
   "source": [
    "plt.figure(figsize=(20,20))\n",
    "sns.heatmap(df.corr())"
   ]
  },
  {
   "cell_type": "code",
   "execution_count": null,
   "metadata": {},
   "outputs": [],
   "source": []
  }
 ],
 "metadata": {
  "kernelspec": {
   "display_name": "Python 3",
   "language": "python",
   "name": "python3"
  },
  "language_info": {
   "codemirror_mode": {
    "name": "ipython",
    "version": 3
   },
   "file_extension": ".py",
   "mimetype": "text/x-python",
   "name": "python",
   "nbconvert_exporter": "python",
   "pygments_lexer": "ipython3",
   "version": "3.8.3"
  }
 },
 "nbformat": 4,
 "nbformat_minor": 4
}
